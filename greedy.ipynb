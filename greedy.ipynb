{
 "cells": [
  {
   "cell_type": "markdown",
   "metadata": {},
   "source": [
    "# Greedy algorithm\n",
    "\n",
    "> A greedy algorithm is any algorithm that follows the problem-solving heuristic of making the locally optimal choice at each stage. In many problems, a greedy strategy does not produce an optimal solution, but a greedy heuristic can yield locally optimal solutions that approximate a globally optimal solution in a reasonable amount of time. "
   ]
  },
  {
   "cell_type": "code",
   "execution_count": 2,
   "metadata": {},
   "outputs": [
    {
     "name": "stdout",
     "output_type": "stream",
     "text": [
      "[10, 1, 1]\n"
     ]
    }
   ],
   "source": [
    "def money_change(coins: list, total: int) -> list:\n",
    "    \"\"\"Given a list of coins and a total amount, the function returns a list of coins in order to reach the amount needed\"\"\"\n",
    "    left = total\n",
    "    res = []\n",
    "\n",
    "    coins.sort()\n",
    "\n",
    "    while left > 0:\n",
    "        selected = coins[0]\n",
    "\n",
    "        for coin in coins:\n",
    "            if coin <= left and coin > selected:\n",
    "                selected = coin\n",
    "\n",
    "        res.append(selected)\n",
    "        left -= selected\n",
    "\n",
    "    return res\n",
    "\n",
    "\n",
    "coins = [1, 6, 10]\n",
    "res = money_change(coins, 12)\n",
    "print(res)"
   ]
  },
  {
   "cell_type": "markdown",
   "metadata": {},
   "source": []
  }
 ],
 "metadata": {
  "kernelspec": {
   "display_name": "base",
   "language": "python",
   "name": "python3"
  },
  "language_info": {
   "codemirror_mode": {
    "name": "ipython",
    "version": 3
   },
   "file_extension": ".py",
   "mimetype": "text/x-python",
   "name": "python",
   "nbconvert_exporter": "python",
   "pygments_lexer": "ipython3",
   "version": "3.11.7"
  }
 },
 "nbformat": 4,
 "nbformat_minor": 2
}
