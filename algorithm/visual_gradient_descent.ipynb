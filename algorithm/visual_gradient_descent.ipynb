{
 "cells": [
  {
   "cell_type": "markdown",
   "metadata": {},
   "source": [
    "## Visual representation of Gradient Descent\n",
    "\n",
    "> Usage of the [plotly](https://plotly.com/python/) library in order to represent a gradient descent in an interactive way\n"
   ]
  },
  {
   "cell_type": "code",
   "execution_count": null,
   "metadata": {},
   "outputs": [],
   "source": [
    "# common libs\n",
    "import pandas as pd\n",
    "import numpy as np\n",
    "\n",
    "# libraries for drawing\n",
    "import plotly.express as px\n",
    "import plotly.graph_objects as go\n",
    "\n",
    "# libraries type hint\n",
    "from typing import Callable\n",
    "\n",
    "# type hint for a point in a 3 Dimension\n",
    "Point3D = tuple[float, float, float]"
   ]
  },
  {
   "cell_type": "code",
   "execution_count": null,
   "metadata": {},
   "outputs": [],
   "source": [
    "def draw_function_with_gradient(\n",
    "    f: Callable, graph_range: list, descent_history: list[Point3D]\n",
    "):\n",
    "    \"\"\"Create plot using plotly to represent a gradient descent result of function\n",
    "\n",
    "    Args:\n",
    "        f (Callable): function to render\n",
    "        graph_range (list): range to draw the function\n",
    "        descent_history (list[Point3D]): history of the gradient descent algorithm\n",
    "    \"\"\"\n",
    "    # Vectorize function in order to be possible to support numpy array operations\n",
    "    f_vector = np.vectorize(f)\n",
    "\n",
    "    # Create a grid of x and y values\n",
    "    x, y = np.meshgrid(np.linspace(*graph_range, 100), np.linspace(*graph_range, 100))\n",
    "    z = f_vector(x, y)\n",
    "\n",
    "    # Create the plot\n",
    "    fig = go.Figure(data=[go.Surface(z=z, x=x, y=y, opacity=0.7)])\n",
    "\n",
    "    # convert history to pandas df\n",
    "    descent_df = pd.DataFrame(descent_history, columns=[\"x\", \"y\", \"z\"])\n",
    "\n",
    "    # Add markers of start and end points\n",
    "    points_df = pd.concat([descent_df.iloc[[0]], descent_df.iloc[[-1]]])\n",
    "    start_end_text_plot = go.Scatter3d(\n",
    "        x=points_df[\"x\"],\n",
    "        y=points_df[\"y\"],\n",
    "        z=points_df[\"z\"],\n",
    "        mode=\"markers+text\",\n",
    "        text=[\"Start\", \"End\"],\n",
    "    )\n",
    "    fig.add_traces(start_end_text_plot)\n",
    "\n",
    "    # Add gradient descend line to the plot\n",
    "    descend_line_plot = px.line_3d(\n",
    "        descent_df, x=\"x\", y=\"y\", z=\"z\", color_discrete_sequence=[\"white\"]\n",
    "    )\n",
    "    fig.add_traces(descend_line_plot.data)\n",
    "\n",
    "    # Add title to the layout and rest of properties can be added here as well\n",
    "    fig.update_layout(\n",
    "        title=f\"Min point found at {[round(x, 2) for x in descent_history[-1]]}\",\n",
    "    )\n",
    "\n",
    "    # Show the plot\n",
    "    fig.show()"
   ]
  },
  {
   "cell_type": "markdown",
   "metadata": {},
   "source": [
    "Displaying gradient descent for the following function: $$f(x) =  x² + y²$$\n",
    "\n",
    "Assuming that our starting point is: $$(0.33622614065312284, -4.759227854008328, 22.76329778402721)$$\n",
    "\n",
    "As expected the algorithm will converge at: $$(0, 0, 0)$$\n"
   ]
  },
  {
   "cell_type": "code",
   "execution_count": null,
   "metadata": {},
   "outputs": [],
   "source": [
    "def f(x: float, y: float) -> float:\n",
    "    return x**2 + y**2\n",
    "\n",
    "\n",
    "# gradient history calculated with the gradient descend for learning_rate = 0.3\n",
    "history = [\n",
    "    [0.33622614065312284, -4.759227854008328, 22.76329778402721],\n",
    "    [0.13449045626124914, -1.9036911416033315, 3.6421276454443547],\n",
    "    [0.05379618250449966, -0.7614764566413326, 0.5827404232710967],\n",
    "    [0.02151847300179987, -0.30459058265653305, 0.09323846772337548],\n",
    "    [0.008607389200719948, -0.12183623306261324, 0.01491815483574008],\n",
    "    [0.003442955680287979, -0.04873449322504529, 0.0023869047737184127],\n",
    "    [0.0013771822721151917, -0.019493797290018117, 0.00038190476379494604],\n",
    "    [0.0005508729088460767, -0.007797518916007247, 6.110476220719137e-05],\n",
    "    [0.00022034916353843068, -0.0031190075664028994, 9.776761953150623e-06],\n",
    "    [8.813966541537229e-05, -0.0012476030265611599, 1.5642819125041e-06],\n",
    "    [3.525586616614892e-05, -0.0004990412106244639, 2.5028510600065596e-07],\n",
    "    [1.4102346466459568e-05, -0.00019961648424978557, 4.0045616960104954e-08],\n",
    "    [5.640938586583827e-06, -7.984659369991423e-05, 6.407298713616793e-09],\n",
    "    [2.256375434633531e-06, -3.193863747996569e-05, 1.0251677941786867e-09],\n",
    "    [9.025501738534124e-07, -1.2775454991986276e-05, 1.6402684706858987e-10],\n",
    "    [3.61020069541365e-07, -5.11018199679451e-06, 2.6244295530974382e-11],\n",
    "    [1.44408027816546e-07, -2.0440727987178044e-06, 4.199087284955902e-12],\n",
    "    [5.77632111266184e-08, -8.176291194871217e-07, 6.718539655929443e-13],\n",
    "    [2.310528445064736e-08, -3.270516477948487e-07, 1.0749663449487107e-13],\n",
    "]\n",
    "\n",
    "draw_function_with_gradient(f, graph_range=[-5, 5], descent_history=history)"
   ]
  }
 ],
 "metadata": {
  "kernelspec": {
   "display_name": "base",
   "language": "python",
   "name": "python3"
  },
  "language_info": {
   "codemirror_mode": {
    "name": "ipython",
    "version": 3
   },
   "file_extension": ".py",
   "mimetype": "text/x-python",
   "name": "python",
   "nbconvert_exporter": "python",
   "pygments_lexer": "ipython3",
   "version": "3.11.7"
  }
 },
 "nbformat": 4,
 "nbformat_minor": 2
}
