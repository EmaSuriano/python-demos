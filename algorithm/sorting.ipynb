{
 "cells": [
  {
   "cell_type": "code",
   "execution_count": 9,
   "id": "05f82dba-99e6-461d-b2b0-145168d1fe54",
   "metadata": {
    "tags": []
   },
   "outputs": [],
   "source": [
    "import random\n",
    "import time\n",
    "import matplotlib.pyplot as plt"
   ]
  },
  {
   "cell_type": "code",
   "execution_count": 10,
   "id": "5f701966-223c-4a71-8f69-a9f4bff278c3",
   "metadata": {
    "tags": []
   },
   "outputs": [],
   "source": [
    "def generate_unique_random_numbers(num_numbers, min_value, max_value):\n",
    "    \"\"\"\n",
    "    Generates a list of unique random positive integers within the specified range.\n",
    "\n",
    "    Args:\n",
    "        num_numbers (int): Number of random integers to generate.\n",
    "        min_value (int): Minimum value for the random integers (inclusive).\n",
    "        max_value (int): Maximum value for the random integers (exclusive).\n",
    "\n",
    "    Returns:\n",
    "        list: List of unique random positive integers.\n",
    "    \"\"\"\n",
    "    if num_numbers > max_value - min_value:\n",
    "        raise ValueError(\"Cannot generate more unique numbers than the range allows.\")\n",
    "\n",
    "    random_numbers = random.sample(range(min_value, max_value), num_numbers)\n",
    "    return random_numbers"
   ]
  },
  {
   "cell_type": "code",
   "execution_count": 11,
   "id": "8d3d388f-a127-4aef-96e7-ee61293d6327",
   "metadata": {
    "tags": []
   },
   "outputs": [],
   "source": [
    "def insertion_sort(random_array):\n",
    "\n",
    "    array = random_array.copy()\n",
    "\n",
    "    for i in range(1, len(array)):\n",
    "\n",
    "        key_item = array[i]\n",
    "        j = i - 1\n",
    "\n",
    "        while j >= 0 and array[j] > key_item:\n",
    "            array[j + 1] = array[j]\n",
    "            j -= 1\n",
    "\n",
    "        array[j + 1] = key_item\n",
    "\n",
    "    return array"
   ]
  },
  {
   "cell_type": "code",
   "execution_count": 12,
   "id": "ce8a1f4a-c52b-490b-9266-e4d187b27fc1",
   "metadata": {
    "tags": []
   },
   "outputs": [],
   "source": [
    "def bubble_sort(random_array):\n",
    "\n",
    "    array = random_array.copy()\n",
    "\n",
    "    n = len(array)\n",
    "\n",
    "    for i in range(n):\n",
    "\n",
    "        already_sorted = True\n",
    "\n",
    "        for j in range(n - i - 1):\n",
    "\n",
    "            if array[j] > array[j + 1]:\n",
    "                array[j], array[j + 1] = array[j + 1], array[j]\n",
    "                already_sorted = False\n",
    "\n",
    "        if already_sorted:\n",
    "            break\n",
    "\n",
    "    return array"
   ]
  },
  {
   "cell_type": "code",
   "execution_count": 13,
   "id": "0350a47c-f0f3-4f00-af1d-3669c936dd92",
   "metadata": {},
   "outputs": [],
   "source": [
    "def selection_sort(random_array):\n",
    "\n",
    "    A = random_array.copy()\n",
    "\n",
    "    for i in range(len(A) - 1):\n",
    "        min_idx = i\n",
    "\n",
    "        for j in range(i + 1, len(A)):\n",
    "            if A[min_idx] > A[j]:\n",
    "                min_idx = j\n",
    "\n",
    "        A[i], A[min_idx] = A[min_idx], A[i]\n",
    "\n",
    "    return A"
   ]
  },
  {
   "cell_type": "code",
   "execution_count": 14,
   "id": "dd8508d2-056d-4e81-becb-b63782df51c5",
   "metadata": {
    "tags": []
   },
   "outputs": [],
   "source": [
    "def merge(arr1, arr2):\n",
    "    i = 0\n",
    "    j = 0\n",
    "    result = []\n",
    "    while i < len(arr1) and j < len(arr2):\n",
    "        if arr2[j] > arr1[i]:\n",
    "            result.append(arr1[i])\n",
    "            i += 1\n",
    "        else:\n",
    "            result.append(arr2[j])\n",
    "            j += 1\n",
    "    while i < len(arr1):\n",
    "        result.append(arr1[i])\n",
    "        i += 1\n",
    "    while j < len(arr2):\n",
    "        result.append(arr2[j])\n",
    "        j += 1\n",
    "\n",
    "    return result\n",
    "\n",
    "\n",
    "def merge_sort(arr):\n",
    "    if len(arr) <= 1:\n",
    "        return arr\n",
    "    mid = len(arr) // 2\n",
    "    left = merge_sort(arr[:mid])\n",
    "    right = merge_sort(arr[mid:])\n",
    "\n",
    "    return merge(left, right)"
   ]
  },
  {
   "cell_type": "code",
   "execution_count": 15,
   "id": "f77dbe25-2719-4d0c-95ef-514a13329953",
   "metadata": {
    "tags": []
   },
   "outputs": [],
   "source": [
    "def heapify(arr, n, i):\n",
    "    largest = i\n",
    "    l = 2 * i + 1\n",
    "    r = 2 * i + 2\n",
    "\n",
    "    if l < n and arr[i] < arr[l]:\n",
    "        largest = l\n",
    "\n",
    "    if r < n and arr[largest] < arr[r]:\n",
    "        largest = r\n",
    "\n",
    "    if largest != i:\n",
    "        arr[i], arr[largest] = arr[largest], arr[i]\n",
    "        heapify(arr, n, largest)\n",
    "\n",
    "\n",
    "def heap_sort(random_array):\n",
    "\n",
    "    arr = random_array.copy()\n",
    "\n",
    "    n = len(arr)\n",
    "\n",
    "    for i in range(n // 2, -1, -1):\n",
    "        heapify(arr, n, i)\n",
    "\n",
    "    for i in range(n - 1, 0, -1):\n",
    "        arr[i], arr[0] = arr[0], arr[i]\n",
    "        heapify(arr, i, 0)\n",
    "\n",
    "    return arr"
   ]
  },
  {
   "cell_type": "code",
   "execution_count": 16,
   "id": "7da704ae-ccfd-4f99-a4a2-db5f19db061f",
   "metadata": {
    "tags": []
   },
   "outputs": [],
   "source": [
    "def quick_sort(arr):\n",
    "    if len(arr) <= 1:\n",
    "        return arr\n",
    "    else:\n",
    "        pivot = arr[0]\n",
    "        left = [x for x in arr[1:] if x < pivot]\n",
    "        right = [x for x in arr[1:] if x >= pivot]\n",
    "        return quick_sort(left) + [pivot] + quick_sort(right)"
   ]
  },
  {
   "cell_type": "code",
   "execution_count": 18,
   "id": "4a9407f1-4e57-40f9-ae02-480925ff681c",
   "metadata": {
    "tags": []
   },
   "outputs": [],
   "source": [
    "bubble_sort_execution_time = []\n",
    "insertion_sort_execution_time = []\n",
    "selection_sort_execution_time = []\n",
    "merge_sort_execution_time = []\n",
    "heap_sort_execution_time = []\n",
    "quick_sort_execution_time = []\n",
    "nro_attempts = []\n",
    "\n",
    "for x in range(1, 5):\n",
    "    nro_attempts.append(10**x)\n",
    "    random_numbers = generate_unique_random_numbers(10**x, 0, 10000000)\n",
    "\n",
    "    start = time.perf_counter()\n",
    "    i = bubble_sort(random_numbers)\n",
    "    end = time.perf_counter()\n",
    "    bubble_sort_execution_time.append(end - start)\n",
    "\n",
    "    start = time.perf_counter()\n",
    "    j = insertion_sort(random_numbers)\n",
    "    end = time.perf_counter()\n",
    "    insertion_sort_execution_time.append(end - start)\n",
    "\n",
    "    start = time.perf_counter()\n",
    "    k = selection_sort(random_numbers)\n",
    "    end = time.perf_counter()\n",
    "    selection_sort_execution_time.append(end - start)\n",
    "\n",
    "    start = time.perf_counter()\n",
    "    l = merge_sort(random_numbers)\n",
    "    end = time.perf_counter()\n",
    "    merge_sort_execution_time.append(end - start)\n",
    "\n",
    "    start = time.perf_counter()\n",
    "    m = heap_sort(random_numbers)\n",
    "    end = time.perf_counter()\n",
    "    heap_sort_execution_time.append(end - start)\n",
    "\n",
    "    start = time.perf_counter()\n",
    "    n = quick_sort(random_numbers)\n",
    "    end = time.perf_counter()\n",
    "    quick_sort_execution_time.append(end - start)"
   ]
  },
  {
   "cell_type": "code",
   "execution_count": 19,
   "id": "1f062f0e-c267-458e-8b79-43a8a18423b1",
   "metadata": {
    "tags": []
   },
   "outputs": [
    {
     "data": {
      "image/png": "[encoded data removed]",
      "text/plain": [
       "<Figure size 640x480 with 1 Axes>"
      ]
     },
     "metadata": {},
     "output_type": "display_data"
    }
   ],
   "source": [
    "plt.plot(nro_attempts, bubble_sort_execution_time, label=\"Bubble Sort\")\n",
    "plt.plot(nro_attempts, insertion_sort_execution_time, label=\"Insertion Sort\")\n",
    "plt.plot(nro_attempts, selection_sort_execution_time, label=\"Selection Sort\")\n",
    "plt.plot(nro_attempts, merge_sort_execution_time, label=\"Merge Sort\")\n",
    "plt.plot(nro_attempts, heap_sort_execution_time, label=\"Heap Sort\")\n",
    "plt.plot(nro_attempts, quick_sort_execution_time, label=\"Quick Sort\")\n",
    "plt.legend()\n",
    "plt.title(\"Sorting algorithm time comparison\")\n",
    "plt.xlabel(\"Number of elements\")\n",
    "plt.ylabel(\"Sort time (s)\")\n",
    "plt.grid()\n",
    "plt.show()"
   ]
  },
  {
   "cell_type": "code",
   "execution_count": null,
   "id": "a488212c-b434-4079-baae-db49ae171432",
   "metadata": {},
   "outputs": [],
   "source": []
  }
 ],
 "metadata": {
  "kernelspec": {
   "display_name": "Python 3 (ipykernel)",
   "language": "python",
   "name": "python3"
  },
  "language_info": {
   "codemirror_mode": {
    "name": "ipython",
    "version": 3
   },
   "file_extension": ".py",
   "mimetype": "text/x-python",
   "name": "python",
   "nbconvert_exporter": "python",
   "pygments_lexer": "ipython3",
   "version": "3.11.7"
  }
 },
 "nbformat": 4,
 "nbformat_minor": 5
}
