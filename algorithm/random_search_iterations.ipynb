{
 "cells": [
  {
   "cell_type": "code",
   "execution_count": 15,
   "metadata": {},
   "outputs": [
    {
     "name": "stdout",
     "output_type": "stream",
     "text": [
      "Number of iteration to reach at least 0%: n > 1405006\n"
     ]
    }
   ],
   "source": [
    "import math\n",
    "from mpmath import mp\n",
    "\n",
    "# Set the precision to a high value, for example, 100 decimal places\n",
    "mp.dps = 100\n",
    "\n",
    "cities = 42\n",
    "p = mp.mpf(0.000000000000000000000000000000000000000000001)\n",
    "m = math.factorial(cities)\n",
    "\n",
    "# All the operations have to be done using mpmath in order to keep the high precision\n",
    "sub = lambda a, b: mp.mpf(a) - mp.mpf(b)\n",
    "div = lambda a, b: mp.mpf(a) / mp.mpf(b)\n",
    "log = lambda a: mp.log(a)\n",
    "\n",
    "a = log(sub(1, div(1, m)))\n",
    "n = div(log(sub(1,p)), a)\n",
    "print(f\"Number of iteration to reach at least {int(p * 100)}%: n > {int(n)}\")\n"
   ]
  },
  {
   "cell_type": "code",
   "execution_count": null,
   "metadata": {},
   "outputs": [],
   "source": []
  }
 ],
 "metadata": {
  "kernelspec": {
   "display_name": "base",
   "language": "python",
   "name": "python3"
  },
  "language_info": {
   "codemirror_mode": {
    "name": "ipython",
    "version": 3
   },
   "file_extension": ".py",
   "mimetype": "text/x-python",
   "name": "python",
   "nbconvert_exporter": "python",
   "pygments_lexer": "ipython3",
   "version": "3.11.7"
  }
 },
 "nbformat": 4,
 "nbformat_minor": 2
}
