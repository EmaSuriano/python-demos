{
  "cells": [
    {
      "cell_type": "code",
      "execution_count": 1,
      "metadata": {
        "id": "Ku6PrPEl9V4u"
      },
      "outputs": [
        {
          "name": "stdout",
          "output_type": "stream",
          "text": [
            "Requirement already satisfied: requests in /opt/homebrew/anaconda3/lib/python3.11/site-packages (2.31.0)\n",
            "Requirement already satisfied: charset-normalizer<4,>=2 in /opt/homebrew/anaconda3/lib/python3.11/site-packages (from requests) (2.0.4)\n",
            "Requirement already satisfied: idna<4,>=2.5 in /opt/homebrew/anaconda3/lib/python3.11/site-packages (from requests) (3.4)\n",
            "Requirement already satisfied: urllib3<3,>=1.21.1 in /opt/homebrew/anaconda3/lib/python3.11/site-packages (from requests) (2.0.7)\n",
            "Requirement already satisfied: certifi>=2017.4.17 in /opt/homebrew/anaconda3/lib/python3.11/site-packages (from requests) (2024.2.2)\n",
            "Requirement already satisfied: tsplib95 in /opt/homebrew/anaconda3/lib/python3.11/site-packages (0.7.1)\n",
            "Requirement already satisfied: Click>=6.0 in /opt/homebrew/anaconda3/lib/python3.11/site-packages (from tsplib95) (8.1.7)\n",
            "Requirement already satisfied: Deprecated~=1.2.9 in /opt/homebrew/anaconda3/lib/python3.11/site-packages (from tsplib95) (1.2.14)\n",
            "Requirement already satisfied: networkx~=2.1 in /opt/homebrew/anaconda3/lib/python3.11/site-packages (from tsplib95) (2.8.8)\n",
            "Requirement already satisfied: tabulate~=0.8.7 in /opt/homebrew/anaconda3/lib/python3.11/site-packages (from tsplib95) (0.8.10)\n",
            "Requirement already satisfied: wrapt<2,>=1.10 in /opt/homebrew/anaconda3/lib/python3.11/site-packages (from Deprecated~=1.2.9->tsplib95) (1.14.1)\n"
          ]
        }
      ],
      "source": [
        "#Modulo de llamadas http para descargar ficheros\n",
        "!pip install requests\n",
        "\n",
        "#Libreria del problema TSP: http://elib.zib.de/pub/mp-testdata/tsp/tsplib/tsplib.html\n",
        "!pip install tsplib95"
      ]
    },
    {
      "cell_type": "code",
      "execution_count": 3,
      "metadata": {
        "id": "lwwwi-Rr9haG"
      },
      "outputs": [],
      "source": [
        "import tsplib95\n",
        "from urllib import request"
      ]
    },
    {
      "cell_type": "code",
      "execution_count": 6,
      "metadata": {
        "id": "NpUqeOgl9yiK"
      },
      "outputs": [
        {
          "name": "stdout",
          "output_type": "stream",
          "text": [
            "[0, 1, 2, 3, 4, 5, 6, 7, 8, 9, 10, 11, 12, 13, 14, 15, 16, 17, 18, 19, 20, 21, 22, 23, 24, 25, 26, 27, 28, 29, 30, 31, 32, 33, 34, 35, 36, 37, 38, 39, 40, 41]\n"
          ]
        }
      ],
      "source": [
        "# DATOS DEL PROBLEMA\n",
        "file = \"swiss42.tsp\"\n",
        "\n",
        "request.urlretrieve(\n",
        "    \"http://comopt.ifi.uni-heidelberg.de/software/TSPLIB95/tsp/swiss42.tsp.gz\",\n",
        "    file + \".gz\",\n",
        ")\n",
        "# !gzip -d swiss42.tsp.gz     #Descomprimir el fichero de datos\n",
        "problem = tsplib95.load(file)\n",
        "\n",
        "# Nodos\n",
        "Nodos = list(problem.get_nodes())\n",
        "\n",
        "\n",
        "# Devuelve la distancia entre dos nodos\n",
        "def distancia(a, b, problem):\n",
        "    return problem.get_weight(a, b)\n",
        "\n",
        "\n",
        "# Devuelve la distancia total de una trayectoria/solucion(lista de nodos)\n",
        "def distancia_total(solucion, problem):\n",
        "    distancia_total = 0\n",
        "    for i in range(len(solucion) - 1):\n",
        "        distancia_total += distancia(solucion[i], solucion[i + 1], problem)\n",
        "    return distancia_total + distancia(\n",
        "        solucion[len(solucion) - 1], solucion[0], problem\n",
        "    )"
      ]
    },
    {
      "cell_type": "markdown",
      "metadata": {
        "id": "hil3PCXB9iWf"
      },
      "source": [
        "##Algoritmo de colonia de hormigas\n",
        "\n",
        "La función Add_Nodo selecciona al azar un nodo con probabilidad uniforme.\n",
        "Para ser mas eficiente debería seleccionar el próximo nodo siguiendo la probabilidad correspondiente a la ecuación:\n",
        "\n",
        "$p^k_{ij}(t) = \\frac{[\\tau_{ij}(t)]^\\alpha[\\nu_{ij}]^\\beta}{\\sum_{l\\in J^k_i} [\\tau_{il}(t)]^\\alpha[\\nu_{il}]^\\beta}$, si $j \\in J^k_i$\n",
        "\n",
        "$p^k_{ij}(t) = 0$, si $j \\notin J^k_i$\n"
      ]
    },
    {
      "cell_type": "code",
      "execution_count": 46,
      "metadata": {
        "colab": {
          "base_uri": "https://localhost:8080/"
        },
        "id": "8H08lRY7-Emq",
        "outputId": "71c15d2d-a03a-4ee0-a00a-2db946745e15"
      },
      "outputs": [
        {
          "name": "stdout",
          "output_type": "stream",
          "text": [
            "[0, 1, 6, 4, 3, 2, 27, 28, 29, 30, 32, 34, 20, 33, 31, 17, 37, 15, 14, 16, 19, 13, 5, 26, 18, 12, 11, 25, 10, 8, 9, 23, 41, 21, 39, 22, 38, 24, 40, 7, 36, 35]\n",
            "1630\n"
          ]
        }
      ],
      "source": [
        "alpha = 1.0\n",
        "beta = 2.0\n",
        "\n",
        "\n",
        "def Add_Nodo(problem, H, T):\n",
        "    # Mejora:Establecer una funcion de probabilidad para\n",
        "    # añadir un nuevo nodo dependiendo de los nodos mas cercanos y de las feromonas depositadas\n",
        "    not_visited_nodes = list(set(problem.get_nodes()) - set(H))\n",
        "\n",
        "    curr_node = H[-1]\n",
        "    total = 0\n",
        "    numerador = {}\n",
        "    for next_node in not_visited_nodes:\n",
        "        dist = distancia(curr_node, next_node, problem)\n",
        "        numerador[next_node] = (T[curr_node][next_node] ** alpha) * ((1 / dist) ** beta)\n",
        "        total += numerador[next_node]\n",
        "\n",
        "    prob = {}\n",
        "    for nodo in not_visited_nodes:\n",
        "        prob[nodo] = numerador[nodo] / total\n",
        "\n",
        "    return max(prob, key=lambda x: prob[x])\n",
        "\n",
        "\n",
        "def Incrementa_Feromona(problem, T, H):\n",
        "    # Incrementa segun la calidad de la solución. Añadir una cantidad inversamente proporcional a la distancia total\n",
        "    for i in range(len(H) - 1):\n",
        "        T[H[i]][H[i + 1]] += 1000 / distancia_total(H, problem)\n",
        "    return T\n",
        "\n",
        "\n",
        "def Evaporar_Feromonas(T):\n",
        "    # Evapora 0.3 el valor de la feromona, sin que baje de 1\n",
        "    # Mejora:Podemos elegir diferentes funciones de evaporación dependiendo de la cantidad actual y de la suma total de feromonas depositadas,...\n",
        "    T = [[max(T[i][j] - 0.3, 1) for i in range(len(Nodos))] for j in range(len(Nodos))]\n",
        "    return T\n",
        "\n",
        "\n",
        "def hormigas(problem, N: int):\n",
        "    # Nodos\n",
        "    Nodos = list(problem.get_nodes())\n",
        "\n",
        "    # Inicializa las aristas con una cantidad inicial de feromonas:1\n",
        "    # Mejora: inicializar con valores diferentes dependiendo diferentes criterios\n",
        "    T = [[1 for _ in range(len(Nodos))] for _ in range(len(Nodos))]\n",
        "\n",
        "    # Se generan los agentes(hormigas) que serán estructuras de caminos desde 0\n",
        "    Hormiga = [[0] for _ in range(N)]\n",
        "\n",
        "    # Recorre cada agente construyendo la solución\n",
        "    for h in range(len(Hormiga)):\n",
        "\n",
        "        # Para cada agente se construye un camino\n",
        "        for i in range(len(Nodos) - 1):\n",
        "            # Elige el siguiente nodo\n",
        "            Nuevo_Nodo = Add_Nodo(problem, Hormiga[h], T)\n",
        "            Hormiga[h].append(Nuevo_Nodo)\n",
        "\n",
        "        # Incrementa feromonas en esa arista\n",
        "        T = Incrementa_Feromona(problem, T, Hormiga[h])\n",
        "        # print(\"Feromonas(1)\", T)\n",
        "\n",
        "        # Evapora Feromonas\n",
        "        T = Evaporar_Feromonas(T)\n",
        "        # print(\"Feromonas(2)\", T)\n",
        "\n",
        "        # Seleccionamos el mejor agente\n",
        "\n",
        "    mejor_solucion = []\n",
        "    mejor_distancia = 10e100\n",
        "    for h in range(N):\n",
        "        distancia_actual = distancia_total(Hormiga[h], problem)\n",
        "        if distancia_actual < mejor_distancia:\n",
        "            mejor_solucion = Hormiga[h]\n",
        "            mejor_distancia = distancia_actual\n",
        "\n",
        "    print(mejor_solucion)\n",
        "    print(mejor_distancia)\n",
        "\n",
        "\n",
        "hormigas(problem, 10)"
      ]
    },
    {
      "cell_type": "code",
      "execution_count": null,
      "metadata": {},
      "outputs": [],
      "source": []
    }
  ],
  "metadata": {
    "colab": {
      "provenance": []
    },
    "kernelspec": {
      "display_name": "Python 3",
      "name": "python3"
    },
    "language_info": {
      "codemirror_mode": {
        "name": "ipython",
        "version": 3
      },
      "file_extension": ".py",
      "mimetype": "text/x-python",
      "name": "python",
      "nbconvert_exporter": "python",
      "pygments_lexer": "ipython3",
      "version": "3.11.7"
    }
  },
  "nbformat": 4,
  "nbformat_minor": 0
}
