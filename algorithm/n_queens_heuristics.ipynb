{
 "cells": [
  {
   "cell_type": "markdown",
   "metadata": {},
   "source": [
    "# N queens (now with heuristics)\n",
    "\n",
    "The N Queen is the problem of placing N chess queens on an N×N chessboard so that no two queens attack each other.\n",
    "\n",
    "For example, the following is a solution for the 4 Queen problem.\n",
    "\n",
    "![Solution-Of-4-Queen-Problem.png](https://media.geeksforgeeks.org/wp-content/uploads/20230814111654/Solution-Of-4-Queen-Problem.png)\n",
    "\n",
    "The expected output is in the form of a matrix that has ‘Q‘s for the blocks where queens are placed and the empty spaces are represented by ‘.’ . For example, the following is the output matrix for the above 4-Queen solution.\n"
   ]
  },
  {
   "cell_type": "markdown",
   "metadata": {},
   "source": [
    "## Helpers"
   ]
  },
  {
   "cell_type": "code",
   "execution_count": 5,
   "metadata": {},
   "outputs": [],
   "source": [
    "def are_queens_visible(pos1: tuple[int, int], pos2: tuple[int, int]) -> bool:\n",
    "    \"\"\"Given two positions, it returns if the queens are visible to each other\"\"\"\n",
    "    x1, y1 = pos1\n",
    "    x2, y2 = pos2\n",
    "\n",
    "    return x1 == x2 or y1 == y2 or abs(x1 - x2) == abs(y1 - y2)\n",
    "\n",
    "\n",
    "def is_safe(board: list[list], pos: tuple[int, int]) -> bool:\n",
    "    \"\"\"Given a board configuration and a position, it returns if the position will fit in the board\"\"\"\n",
    "    for y, row in enumerate(board):\n",
    "        try:\n",
    "            queen_x = row.index(1)\n",
    "            if are_queens_visible((queen_x, y), pos):\n",
    "                return False\n",
    "\n",
    "        except ValueError:\n",
    "            # no queen in the current row, break the loop.\n",
    "            break\n",
    "\n",
    "    return True"
   ]
  },
  {
   "cell_type": "code",
   "execution_count": 6,
   "metadata": {},
   "outputs": [
    {
     "name": "stdout",
     "output_type": "stream",
     "text": [
      "Result is valid: True\n"
     ]
    }
   ],
   "source": [
    "def validate_result(queens: list) -> bool:\n",
    "    \"\"\"Validate if a queens configuration is valid\"\"\"\n",
    "    board = [[0 for _ in range(len(queens))] for _ in range(len(queens))]\n",
    "\n",
    "    for y, x in enumerate(queens):\n",
    "        if not is_safe(board, (x, y)):\n",
    "            return False\n",
    "\n",
    "        board[y][x] = 1\n",
    "\n",
    "    return True\n",
    "\n",
    "\n",
    "result = [1, 3, 0, 2]\n",
    "print(\"Result is valid:\", validate_result(result))"
   ]
  },
  {
   "cell_type": "code",
   "execution_count": 7,
   "metadata": {},
   "outputs": [
    {
     "name": "stdout",
     "output_type": "stream",
     "text": [
      "|   | Q |   |   | \n",
      "|   |   |   | Q | \n",
      "| Q |   |   |   | \n",
      "|   |   | Q |   | \n"
     ]
    }
   ],
   "source": [
    "def draw_board(queens: list) -> str:\n",
    "    \"\"\"Print the chessboard in order to visualize the result visually\n",
    "\n",
    "    Example: [0, 1, 2, 3] for queens located in (0,0), (1,1), (2,2), (3,3)\n",
    "    \"\"\"\n",
    "    res = []\n",
    "    board = []\n",
    "    for queen_pos in queens:\n",
    "        row = []\n",
    "        for col in range(len(queens)):\n",
    "            row.append(\"Q\" if col == queen_pos else \" \")\n",
    "        board.append(row)\n",
    "\n",
    "    for row in board:\n",
    "        res.append(\"| \" + \" | \".join(row) + \" | \")\n",
    "\n",
    "    return \"\\n\".join(res)\n",
    "\n",
    "\n",
    "result = [1, 3, 0, 2]\n",
    "print(draw_board(result))"
   ]
  },
  {
   "cell_type": "markdown",
   "metadata": {},
   "source": [
    "## Classic Resolution using recursion"
   ]
  },
  {
   "cell_type": "code",
   "execution_count": 8,
   "metadata": {},
   "outputs": [
    {
     "name": "stdout",
     "output_type": "stream",
     "text": [
      "Valid Result:  True\n",
      "| Q |   |   |   |   |   |   |   |   |   |   |   |   |   |   |   |   |   |   |   | \n",
      "|   |   | Q |   |   |   |   |   |   |   |   |   |   |   |   |   |   |   |   |   | \n",
      "|   |   |   |   | Q |   |   |   |   |   |   |   |   |   |   |   |   |   |   |   | \n",
      "|   | Q |   |   |   |   |   |   |   |   |   |   |   |   |   |   |   |   |   |   | \n",
      "|   |   |   | Q |   |   |   |   |   |   |   |   |   |   |   |   |   |   |   |   | \n",
      "|   |   |   |   |   |   |   |   |   |   |   |   | Q |   |   |   |   |   |   |   | \n",
      "|   |   |   |   |   |   |   |   |   |   |   |   |   |   | Q |   |   |   |   |   | \n",
      "|   |   |   |   |   |   |   |   |   |   |   | Q |   |   |   |   |   |   |   |   | \n",
      "|   |   |   |   |   |   |   |   |   |   |   |   |   |   |   |   |   | Q |   |   | \n",
      "|   |   |   |   |   |   |   |   |   |   |   |   |   |   |   |   |   |   |   | Q | \n",
      "|   |   |   |   |   |   |   |   |   |   |   |   |   |   |   |   | Q |   |   |   | \n",
      "|   |   |   |   |   |   |   |   | Q |   |   |   |   |   |   |   |   |   |   |   | \n",
      "|   |   |   |   |   |   |   |   |   |   |   |   |   |   |   | Q |   |   |   |   | \n",
      "|   |   |   |   |   |   |   |   |   |   |   |   |   |   |   |   |   |   | Q |   | \n",
      "|   |   |   |   |   |   |   | Q |   |   |   |   |   |   |   |   |   |   |   |   | \n",
      "|   |   |   |   |   |   |   |   |   | Q |   |   |   |   |   |   |   |   |   |   | \n",
      "|   |   |   |   |   |   | Q |   |   |   |   |   |   |   |   |   |   |   |   |   | \n",
      "|   |   |   |   |   |   |   |   |   |   |   |   |   | Q |   |   |   |   |   |   | \n",
      "|   |   |   |   |   | Q |   |   |   |   |   |   |   |   |   |   |   |   |   |   | \n",
      "|   |   |   |   |   |   |   |   |   |   | Q |   |   |   |   |   |   |   |   |   | \n"
     ]
    }
   ],
   "source": [
    "def place_queen(board: list[list], y: int) -> bool:\n",
    "    # We reached the end of the board, therefore all the queens are placed\n",
    "    if y >= len(board):\n",
    "        return True\n",
    "\n",
    "    for x in range(len(board)):\n",
    "        possible_queen = (x, y)\n",
    "        if is_safe(board, possible_queen):\n",
    "            # Place queen in board\n",
    "            board[y][x] = 1\n",
    "\n",
    "            # Move to the next row\n",
    "            if place_queen(board, y + 1):\n",
    "                return True\n",
    "\n",
    "            # rollback last queen placed\n",
    "            board[y][x] = 0\n",
    "\n",
    "    # if no queen can be placed in the row we go back\n",
    "    return False\n",
    "\n",
    "\n",
    "def n_queens_classic(amount: int) -> list:\n",
    "    \"\"\"Given an amount of queens should return the configuration of queens\n",
    "\n",
    "    Result is provided as list of the queens position: [1, 3, 0, 2]\n",
    "    The index in array represents the row and the value is the column\n",
    "    \"\"\"\n",
    "    # validation of entry params\n",
    "    if amount < 1:\n",
    "        raise Exception(\"amount should be bigger than 1\")\n",
    "\n",
    "    # generate nxn board based on given amount\n",
    "    board = [[0 for _ in range(amount)] for _ in range(amount)]\n",
    "\n",
    "    if place_queen(board, 0) == False:\n",
    "        raise Exception(\n",
    "            f\"There is no possible solution for the given board: {amount}x{amount}\"\n",
    "        )\n",
    "\n",
    "    res = [row.index(1) for row in board]\n",
    "    return res\n",
    "\n",
    "\n",
    "result = n_queens_classic(20)\n",
    "print(\"Valid Result: \", validate_result(result))\n",
    "print(draw_board(result))"
   ]
  },
  {
   "cell_type": "markdown",
   "metadata": {},
   "source": [
    "## Simulated Annealing (SA)"
   ]
  },
  {
   "cell_type": "code",
   "execution_count": 30,
   "metadata": {},
   "outputs": [
    {
     "name": "stdout",
     "output_type": "stream",
     "text": [
      "True\n",
      "|   |   |   |   |   |   |   |   |   |   |   |   |   |   |   |   | Q |   |   |   | \n",
      "|   |   |   |   |   |   |   |   |   | Q |   |   |   |   |   |   |   |   |   |   | \n",
      "|   |   |   |   | Q |   |   |   |   |   |   |   |   |   |   |   |   |   |   |   | \n",
      "|   |   |   |   |   |   |   |   |   |   |   |   |   |   |   | Q |   |   |   |   | \n",
      "|   |   |   |   |   |   |   |   |   |   | Q |   |   |   |   |   |   |   |   |   | \n",
      "|   |   |   | Q |   |   |   |   |   |   |   |   |   |   |   |   |   |   |   |   | \n",
      "|   |   |   |   |   |   |   |   |   |   |   |   |   |   |   |   |   |   |   | Q | \n",
      "|   |   |   |   |   |   |   |   |   |   |   |   | Q |   |   |   |   |   |   |   | \n",
      "|   |   |   |   |   | Q |   |   |   |   |   |   |   |   |   |   |   |   |   |   | \n",
      "|   |   | Q |   |   |   |   |   |   |   |   |   |   |   |   |   |   |   |   |   | \n",
      "|   |   |   |   |   |   |   |   |   |   |   |   |   |   |   |   |   | Q |   |   | \n",
      "|   |   |   |   |   |   |   |   |   |   |   | Q |   |   |   |   |   |   |   |   | \n",
      "| Q |   |   |   |   |   |   |   |   |   |   |   |   |   |   |   |   |   |   |   | \n",
      "|   |   |   |   |   |   |   | Q |   |   |   |   |   |   |   |   |   |   |   |   | \n",
      "|   |   |   |   |   |   |   |   |   |   |   |   |   |   |   |   |   |   | Q |   | \n",
      "|   |   |   |   |   |   | Q |   |   |   |   |   |   |   |   |   |   |   |   |   | \n",
      "|   | Q |   |   |   |   |   |   |   |   |   |   |   |   |   |   |   |   |   |   | \n",
      "|   |   |   |   |   |   |   |   |   |   |   |   |   | Q |   |   |   |   |   |   | \n",
      "|   |   |   |   |   |   |   |   | Q |   |   |   |   |   |   |   |   |   |   |   | \n",
      "|   |   |   |   |   |   |   |   |   |   |   |   |   |   | Q |   |   |   |   |   | \n"
     ]
    }
   ],
   "source": [
    "import random\n",
    "import math\n",
    "\n",
    "\n",
    "def get_closest(res: list) -> list:\n",
    "    \"\"\"Swap queens positions\"\"\"\n",
    "    i, j = sorted(random.sample(range(1, len(res)), 2))\n",
    "\n",
    "    aux = res[:]\n",
    "    aux[i], aux[j] = aux[j], aux[i]\n",
    "    return aux\n",
    "\n",
    "\n",
    "def get_distance(res: list) -> int:\n",
    "    \"\"\"The distance is given by the amount of queens attacking to each other, the more they attack, the bigger the distance\"\"\"\n",
    "    dist = 0\n",
    "\n",
    "    rows = set(range(len(res)))\n",
    "\n",
    "    for currY, currX in enumerate(res):\n",
    "        for y in list(rows - {currY}):\n",
    "            dist += int(are_queens_visible((res[y], y), (currX, currY)))\n",
    "\n",
    "    return dist\n",
    "\n",
    "\n",
    "def probability(temp: int, dist: int) -> bool:\n",
    "    return random.random() < math.exp(-1 * dist / temp)\n",
    "\n",
    "\n",
    "def dec_temp(temp: int) -> int:\n",
    "    return temp * 0.995\n",
    "\n",
    "\n",
    "def get_random_board(n: int) -> list:\n",
    "    \"\"\"create board with random position of queens that are not in the same col\"\"\"\n",
    "    return random.sample(list(range(n)), n)\n",
    "\n",
    "\n",
    "# Using Simulated Annealing heuristic --> https://en.wikipedia.org/wiki/Simulated_annealing\n",
    "def n_queens_SA(n: int, temp=10000000) -> list:\n",
    "    curr_res = get_random_board(n)\n",
    "    curr_res_dist = get_distance(curr_res)\n",
    "\n",
    "    best_res = curr_res\n",
    "    best_rest_dist = curr_res_dist\n",
    "\n",
    "    N = 0\n",
    "    while temp > 0.0001:\n",
    "        N += 1\n",
    "\n",
    "        closest = get_closest(curr_res)\n",
    "        closest_dist = get_distance(closest)\n",
    "\n",
    "        # we found already a solution, so we return it :)\n",
    "        if closest_dist == 0:\n",
    "            return closest\n",
    "\n",
    "        if closest_dist < best_rest_dist:\n",
    "            best_res = closest\n",
    "            best_rest_dist = closest_dist\n",
    "\n",
    "        dist_diff = abs(curr_res_dist - closest_dist)\n",
    "        if closest_dist < curr_res_dist or probability(temp, dist_diff):\n",
    "            curr_res = closest\n",
    "            curr_res_dist = closest_dist\n",
    "\n",
    "        temp = dec_temp(temp)\n",
    "\n",
    "    return best_res\n",
    "\n",
    "\n",
    "result = n_queens_SA(20)\n",
    "print(validate_result(result))\n",
    "print(draw_board(result))"
   ]
  },
  {
   "cell_type": "code",
   "execution_count": 32,
   "metadata": {},
   "outputs": [
    {
     "name": "stderr",
     "output_type": "stream",
     "text": [
      "/opt/homebrew/anaconda3/lib/python3.11/site-packages/seaborn/_oldcore.py:1119: FutureWarning: use_inf_as_na option is deprecated and will be removed in a future version. Convert inf values to NaN before operating instead.\n",
      "  with pd.option_context('mode.use_inf_as_na', True):\n",
      "/opt/homebrew/anaconda3/lib/python3.11/site-packages/seaborn/_oldcore.py:1119: FutureWarning: use_inf_as_na option is deprecated and will be removed in a future version. Convert inf values to NaN before operating instead.\n",
      "  with pd.option_context('mode.use_inf_as_na', True):\n",
      "/opt/homebrew/anaconda3/lib/python3.11/site-packages/seaborn/_oldcore.py:1119: FutureWarning: use_inf_as_na option is deprecated and will be removed in a future version. Convert inf values to NaN before operating instead.\n",
      "  with pd.option_context('mode.use_inf_as_na', True):\n",
      "/opt/homebrew/anaconda3/lib/python3.11/site-packages/seaborn/_oldcore.py:1119: FutureWarning: use_inf_as_na option is deprecated and will be removed in a future version. Convert inf values to NaN before operating instead.\n",
      "  with pd.option_context('mode.use_inf_as_na', True):\n"
     ]
    },
    {
     "data": {
      "image/png": "[encoded data removed]",
      "text/plain": [
       "<Figure size 640x480 with 1 Axes>"
      ]
     },
     "metadata": {},
     "output_type": "display_data"
    }
   ],
   "source": [
    "import seaborn as sns\n",
    "import matplotlib.pyplot as plt\n",
    "from timeit import timeit\n",
    "\n",
    "execution_time_classic = []\n",
    "execution_time_sa = []\n",
    "input_sizes = list(range(4, 20))\n",
    "\n",
    "for n in input_sizes:\n",
    "    execution_time_sa.append(timeit(lambda: n_queens_SA(n), number=1))\n",
    "    execution_time_classic.append(timeit(lambda: n_queens_classic(n), number=1))\n",
    "\n",
    "sns.lineplot(x=input_sizes, y=execution_time_sa, label=\"Simulated Annealing\")\n",
    "sns.lineplot(x=input_sizes, y=execution_time_classic, label=\"Classic\")\n",
    "\n",
    "plt.xlabel(\"n\")\n",
    "plt.ylabel(\"Time (s)\")\n",
    "plt.title(\"Time to n number\")\n",
    "\n",
    "plt.show()"
   ]
  },
  {
   "cell_type": "code",
   "execution_count": 11,
   "metadata": {},
   "outputs": [
    {
     "data": {
      "text/html": [
       "<div>\n",
       "<style scoped>\n",
       "    .dataframe tbody tr th:only-of-type {\n",
       "        vertical-align: middle;\n",
       "    }\n",
       "\n",
       "    .dataframe tbody tr th {\n",
       "        vertical-align: top;\n",
       "    }\n",
       "\n",
       "    .dataframe thead th {\n",
       "        text-align: right;\n",
       "    }\n",
       "</style>\n",
       "<table border=\"1\" class=\"dataframe\">\n",
       "  <thead>\n",
       "    <tr style=\"text-align: right;\">\n",
       "      <th></th>\n",
       "      <th>temp_modif</th>\n",
       "      <th>count</th>\n",
       "    </tr>\n",
       "  </thead>\n",
       "  <tbody>\n",
       "    <tr>\n",
       "      <th>0</th>\n",
       "      <td>0.900</td>\n",
       "      <td>3</td>\n",
       "    </tr>\n",
       "    <tr>\n",
       "      <th>1</th>\n",
       "      <td>0.990</td>\n",
       "      <td>8</td>\n",
       "    </tr>\n",
       "    <tr>\n",
       "      <th>2</th>\n",
       "      <td>0.999</td>\n",
       "      <td>10</td>\n",
       "    </tr>\n",
       "  </tbody>\n",
       "</table>\n",
       "</div>"
      ],
      "text/plain": [
       "   temp_modif  count\n",
       "0       0.900      3\n",
       "1       0.990      8\n",
       "2       0.999     10"
      ]
     },
     "metadata": {},
     "output_type": "display_data"
    },
    {
     "name": "stderr",
     "output_type": "stream",
     "text": [
      "/opt/homebrew/anaconda3/lib/python3.11/site-packages/seaborn/_oldcore.py:1119: FutureWarning: use_inf_as_na option is deprecated and will be removed in a future version. Convert inf values to NaN before operating instead.\n",
      "  with pd.option_context('mode.use_inf_as_na', True):\n",
      "/opt/homebrew/anaconda3/lib/python3.11/site-packages/seaborn/_oldcore.py:1119: FutureWarning: use_inf_as_na option is deprecated and will be removed in a future version. Convert inf values to NaN before operating instead.\n",
      "  with pd.option_context('mode.use_inf_as_na', True):\n"
     ]
    },
    {
     "data": {
      "image/png": "[encoded data removed]",
      "text/plain": [
       "<Figure size 640x480 with 1 Axes>"
      ]
     },
     "metadata": {},
     "output_type": "display_data"
    }
   ],
   "source": [
    "import seaborn as sns\n",
    "import matplotlib.pyplot as plt\n",
    "import pandas as pd\n",
    "\n",
    "df = pd.DataFrame(\n",
    "    [\n",
    "        {\"temp_modif\": 0.9, \"count\": 0},\n",
    "        {\"temp_modif\": 0.99, \"count\": 0},\n",
    "        {\"temp_modif\": 0.999, \"count\": 0},\n",
    "    ]\n",
    ")\n",
    "\n",
    "try_amount = 10\n",
    "queens_amount = 10\n",
    "\n",
    "for i, row in df.iterrows():\n",
    "    # using shadowing of function I can alter the internal behavior of the temperature\n",
    "    def dec_temp(temp: int) -> int:\n",
    "        return temp * row[\"temp_modif\"]\n",
    "\n",
    "    count = 0\n",
    "    for _ in range(try_amount):\n",
    "        res = n_queens_SA(queens_amount)\n",
    "        count += int(validate_result(res))\n",
    "\n",
    "    df.at[i, \"count\"] = count\n",
    "display(df)\n",
    "sns.histplot(\n",
    "    data=df.reset_index(),\n",
    "    x=\"index\",\n",
    "    y=\"count\",\n",
    "    hue=\"temp_modif\",\n",
    ")\n",
    "\n",
    "plt.xlabel(\"Temperature\")\n",
    "plt.ylabel(\"Valid result\")\n",
    "plt.title(\"Temperature modifiers histplot\")\n",
    "\n",
    "plt.show()"
   ]
  }
 ],
 "metadata": {
  "kernelspec": {
   "display_name": "base",
   "language": "python",
   "name": "python3"
  },
  "language_info": {
   "codemirror_mode": {
    "name": "ipython",
    "version": 3
   },
   "file_extension": ".py",
   "mimetype": "text/x-python",
   "name": "python",
   "nbconvert_exporter": "python",
   "pygments_lexer": "ipython3",
   "version": "3.11.7"
  }
 },
 "nbformat": 4,
 "nbformat_minor": 2
}
