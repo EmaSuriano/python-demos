{
 "cells": [
  {
   "cell_type": "markdown",
   "metadata": {},
   "source": [
    "# River trip\n",
    "\n",
    "In a river there is `n` stops and we need to go down the river in between stops. Each stop holds a price to go to the other one. To go from `i` to `j`, it might cheaper to take an intermediate stops with `k`. The problem consist in finding the cheapest combination.\n",
    "\n",
    "![diagram](./assets/river_trip.png)"
   ]
  },
  {
   "cell_type": "code",
   "execution_count": 81,
   "metadata": {},
   "outputs": [
    {
     "name": "stdout",
     "output_type": "stream",
     "text": [
      "11\n"
     ]
    }
   ],
   "source": [
    "import math\n",
    "\n",
    "def calculate_cost(routes: list[list], from_node: int, to_node: int) -> int:\n",
    "    # we are looking for the same node, therefore the cost is 0\n",
    "    if from_node == to_node:\n",
    "        return 0\n",
    "\n",
    "    lowest_cost = math.inf\n",
    "\n",
    "    from_routes = [path for path in routes if path[0] == from_node]\n",
    "\n",
    "    for path in from_routes:\n",
    "        _, next_node, curr_cost = path\n",
    "\n",
    "        if next_node != to_node:\n",
    "            curr_cost += calculate_cost(routes, next_node, to_node)\n",
    "\n",
    "        if curr_cost < lowest_cost:\n",
    "            lowest_cost = curr_cost\n",
    "\n",
    "    return lowest_cost\n",
    "\n",
    "\n",
    "RIVER = [\n",
    "    [0, 1, 5],\n",
    "    [0, 3, 3],\n",
    "    [0, 2, 4],\n",
    "    [1, 3, 2],\n",
    "    [1, 4, 3],\n",
    "    [1, 6, 11],\n",
    "    [2, 3, 1],\n",
    "    [2, 5, 4],\n",
    "    [2, 6, 10],\n",
    "    [3, 4, 5],\n",
    "    [3, 5, 6],\n",
    "    [3, 6, 9],\n",
    "    [4, 6, 4],\n",
    "    [5, 6, 3],\n",
    "]\n",
    "\n",
    "print(\"cost:\", calculate_cost(RIVER, 0, 6))"
   ]
  }
 ],
 "metadata": {
  "kernelspec": {
   "display_name": "base",
   "language": "python",
   "name": "python3"
  },
  "language_info": {
   "codemirror_mode": {
    "name": "ipython",
    "version": 3
   },
   "file_extension": ".py",
   "mimetype": "text/x-python",
   "name": "python",
   "nbconvert_exporter": "python",
   "pygments_lexer": "ipython3",
   "version": "3.11.7"
  }
 },
 "nbformat": 4,
 "nbformat_minor": 2
}
