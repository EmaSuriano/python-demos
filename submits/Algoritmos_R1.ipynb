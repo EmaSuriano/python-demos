{
 "cells": [
  {
   "cell_type": "markdown",
   "metadata": {
    "id": "kQn6fbhgtH9I"
   },
   "source": [
    "# Algoritmos de optimización - Reto 1\n",
    "\n",
    "Nombre: Julio Emanuel Suriano Bryk\n",
    "\n",
    "Link en Github: https://github.com/EmaSuriano/python-demos/blob/main/submits/Algoritmos_R1.ipynb\n",
    "\n",
    "Link en Google Colab: https://colab.research.google.com/github/EmaSuriano/python-demos/blob/main/submits/Algoritmos_R1.ipynb\n"
   ]
  },
  {
   "cell_type": "code",
   "execution_count": null,
   "metadata": {},
   "outputs": [],
   "source": [
    "import seaborn as sns\n",
    "import matplotlib.pyplot as plt\n",
    "from timeit import timeit\n",
    "\n",
    "# Avoid annoying warning for deprecations ...\n",
    "import warnings\n",
    "\n",
    "warnings.simplefilter(action=\"ignore\", category=FutureWarning)"
   ]
  },
  {
   "cell_type": "markdown",
   "metadata": {
    "id": "_t62Ge7ZuKnC"
   },
   "source": [
    "## Torres de Hanoi con Divide y vencerás\n",
    "\n",
    "Resuelve el problema de las [Torres de Hanoi](https://es.wikipedia.org/wiki/Torres_de_Han%C3%B3i) para un número arbitrario de fichas utilizando la técnica de divide y vencerás.\n"
   ]
  },
  {
   "cell_type": "code",
   "execution_count": null,
   "metadata": {
    "colab": {
     "base_uri": "https://localhost:8080/"
    },
    "id": "i32G0CUQvauE",
    "outputId": "c3398cec-661d-46a5-b9db-0a0ad168f64a"
   },
   "outputs": [],
   "source": [
    "def tower_of_hanoi(n_disc: int, from_pos: int, to_pos: int, aux_pos: int):\n",
    "    if n_disc == 1:\n",
    "        print(\"Move disk 1 from\", from_pos, \"to\", to_pos)\n",
    "        return\n",
    "\n",
    "    tower_of_hanoi(n_disc - 1, from_pos=from_pos, to_pos=aux_pos, aux_pos=to_pos)\n",
    "    print(\"Move disk\", n_disc, \"from\", from_pos, \"to\", to_pos)\n",
    "    tower_of_hanoi(n_disc - 1, from_pos=aux_pos, to_pos=to_pos, aux_pos=from_pos)\n",
    "\n",
    "\n",
    "test_cases = [3, 5]\n",
    "for n_disc in test_cases:\n",
    "    print(f\"Test case for {n_disc}\")\n",
    "    tower_of_hanoi(n_disc, from_pos=0, to_pos=2, aux_pos=1)\n",
    "    print()"
   ]
  },
  {
   "cell_type": "code",
   "execution_count": null,
   "metadata": {},
   "outputs": [],
   "source": [
    "import sys\n",
    "import os\n",
    "\n",
    "\n",
    "class SuppressPrint:\n",
    "    \"\"\"Class to suppress print and avoid terminal pollution when running many laps\"\"\"\n",
    "\n",
    "    def __enter__(self):\n",
    "        self._original_stdout = sys.stdout\n",
    "        sys.stdout = open(os.devnull, \"w\")\n",
    "\n",
    "    def __exit__(self, exc_type, exc_value, traceback):\n",
    "        sys.stdout.close()\n",
    "        sys.stdout = self._original_stdout\n",
    "\n",
    "\n",
    "n_disc_lists = list(range(3, 15))\n",
    "\n",
    "with SuppressPrint():\n",
    "    execution_time = [\n",
    "        timeit(lambda: tower_of_hanoi(n, 0, 1, 2), number=1) for n in n_disc_lists\n",
    "    ]\n",
    "\n",
    "sns.lineplot(x=n_disc_lists, y=execution_time)\n",
    "\n",
    "plt.xlabel(\"Number of disk\")\n",
    "plt.ylabel(\"Time (s)\")\n",
    "plt.title(\"Time to resolve Tower of Hanoi based on the amount of disk\")\n",
    "\n",
    "plt.show()"
   ]
  },
  {
   "cell_type": "markdown",
   "metadata": {},
   "source": [
    "## Sucesión de Fibonacci\n",
    "\n",
    "Cálcula el n-ésimo término de la [Sucesión de Fibonacci](https://es.wikipedia.org/wiki/Sucesi%C3%B3n_de_Fibonacci) mediante un algoritmo recursivo y otro iterativo. Representa gráficamente cómo crece el tiempo de cómputo en función del número de términos para ambos algoritmos.\n"
   ]
  },
  {
   "cell_type": "code",
   "execution_count": null,
   "metadata": {
    "colab": {
     "base_uri": "https://localhost:8080/"
    },
    "id": "74qZZAekiNYR",
    "outputId": "acc17268-7f87-4de4-ae5a-4fc6ce09d385"
   },
   "outputs": [],
   "source": [
    "# actual fibonacci chain\n",
    "expected = [0, 1, 1, 2, 3, 5, 8, 13, 21, 34, 55, 89, 144, 229]\n",
    "\n",
    "\n",
    "def fibonacci_rec(n: int) -> int:\n",
    "    \"\"\"Implementation of Fibonacci chain using recursive O(2^n)\"\"\"\n",
    "    if n == 0:\n",
    "        return 0\n",
    "\n",
    "    if n < 2:\n",
    "        return 1\n",
    "\n",
    "    return fibonacci_rec(n - 1) + fibonacci_rec(n - 2)\n",
    "\n",
    "\n",
    "def fibonacci_lin(n: int) -> int:\n",
    "    \"\"\"Implementation of Fibonacci chain using lineal approach: O(n)\"\"\"\n",
    "    if n <= 0:\n",
    "        return 0\n",
    "\n",
    "    res = 1\n",
    "    aux = 0\n",
    "\n",
    "    for _ in range(1, n):\n",
    "        aux, res = res, aux + res\n",
    "\n",
    "    return res\n",
    "\n",
    "\n",
    "for i, value in enumerate(expected):\n",
    "    print(\n",
    "        f\"Expected: {value}, Recursive: {fibonacci_rec(i)}, Lineal: {fibonacci_lin(i)}\"\n",
    "    )"
   ]
  },
  {
   "cell_type": "code",
   "execution_count": null,
   "metadata": {},
   "outputs": [],
   "source": [
    "n_counts = list(range(20))\n",
    "\n",
    "time_rec = [timeit(lambda: fibonacci_rec(n), number=1) for n in n_counts]\n",
    "time_lin = [timeit(lambda: fibonacci_lin(n), number=1) for n in n_counts]\n",
    "\n",
    "sns.lineplot(x=n_counts, y=time_rec, label=\"Fib. Recursive\")\n",
    "sns.lineplot(x=n_counts, y=time_lin, label=\"Fib. Lineal\")\n",
    "\n",
    "plt.xlabel(\"Number\")\n",
    "plt.ylabel(\"Time (s)\")\n",
    "plt.title(\"Time to compute Fibonacci for n values\")\n",
    "\n",
    "plt.show()"
   ]
  },
  {
   "cell_type": "markdown",
   "metadata": {
    "id": "RgT5XJsZ429L"
   },
   "source": [
    "## Devolución de cambio por técnica voraz\n",
    "\n",
    "Resuelve el [Problema del Cambio de Moneda](https://es.wikipedia.org/wiki/Problema_de_cambio_de_monedas) utilizando una técnica voraz.\n"
   ]
  },
  {
   "cell_type": "code",
   "execution_count": null,
   "metadata": {
    "colab": {
     "base_uri": "https://localhost:8080/"
    },
    "id": "uJtftBLU4-ap",
    "outputId": "b52f7a2c-771b-4c2e-81ab-c4c3ea01318d"
   },
   "outputs": [],
   "source": [
    "def money_change_greedy(coins: list[int], total: int) -> list:\n",
    "    \"\"\"Given a list of coins and a total amount, the function returns a list of coins in order to reach the amount needed\"\"\"\n",
    "    left = total\n",
    "    res = []\n",
    "\n",
    "    sorted_coins = sorted(coins)\n",
    "\n",
    "    # Loop until we reach the amount of money left\n",
    "    while left > 0:\n",
    "        # We start with the lowest value coin\n",
    "        selected = sorted_coins[0]\n",
    "\n",
    "        # In case we have a coin with bigger value and that can pay what is left, then we use that\n",
    "        for coin in sorted_coins:\n",
    "            if coin <= left and coin > selected:\n",
    "                selected = coin\n",
    "\n",
    "        # add the resulting coin to the selected and subtract from the left amount\n",
    "        res.append(selected)\n",
    "        left -= selected\n",
    "\n",
    "    return res\n",
    "\n",
    "\n",
    "coins = [1, 6, 10]\n",
    "test_cases = [5, 10, 12, 17]\n",
    "\n",
    "for total in test_cases:\n",
    "    res = money_change_greedy(coins, total)\n",
    "    print(f\"Change for {total}: {res}\")"
   ]
  },
  {
   "cell_type": "markdown",
   "metadata": {
    "id": "g8M9GTvy_Fa3"
   },
   "source": [
    "## N-Reinas por técnica de vuelta atrás\n",
    "\n",
    "Resuelve el [Problema de las N-Reinas](https://es.wikipedia.org/wiki/Problema_de_las_ocho_reinas) en un tablero de dimensión N mediante la técnica de la vuelta atrás (backtraking).\n"
   ]
  },
  {
   "cell_type": "code",
   "execution_count": null,
   "metadata": {},
   "outputs": [],
   "source": [
    "# Additional helpers\n",
    "\n",
    "\n",
    "def are_queen_visible(pos1: tuple[int, int], pos2: tuple[int, int]) -> bool:\n",
    "    \"\"\"Given two positions, it returns if the queens are visible to each other\"\"\"\n",
    "    x1, y1 = pos1\n",
    "    x2, y2 = pos2\n",
    "\n",
    "    return x1 == x2 or y1 == y2 or abs(x1 - x2) == abs(y1 - y2)\n",
    "\n",
    "\n",
    "def is_safe_to_place(board: list[list], pos: tuple[int, int]) -> bool:\n",
    "    \"\"\"Given a board configuration and a position, it returns if the position will fit in the board\"\"\"\n",
    "    for y, row in enumerate(board):\n",
    "        try:\n",
    "            queen_x = row.index(1)\n",
    "            if are_queen_visible((queen_x, y), pos):\n",
    "                return False\n",
    "\n",
    "        except ValueError:\n",
    "            # no queen in the current row, break the loop.\n",
    "            break\n",
    "\n",
    "    return True\n",
    "\n",
    "\n",
    "def validate_result(queens: list):\n",
    "    \"\"\"Validate if a queens configuration is valid\"\"\"\n",
    "    board = [[0 for _ in range(len(queens))] for _ in range(len(queens))]\n",
    "\n",
    "    for y, x in enumerate(queens):\n",
    "        if not is_safe_to_place(board, (x, y)):\n",
    "            return False\n",
    "\n",
    "        board[y][x] = 1\n",
    "\n",
    "    return True\n",
    "\n",
    "\n",
    "def draw_board(queens: list) -> str:\n",
    "    \"\"\"Print the chessboard in order to visualize the result visually\n",
    "\n",
    "    Example: [0, 1, 2, 3] for queens located in (0,0), (1,1), (2,2), (3,3)\n",
    "    \"\"\"\n",
    "    res = []\n",
    "    board = []\n",
    "    for queen_pos in queens:\n",
    "        row = []\n",
    "        for col in range(len(queens)):\n",
    "            row.append(\"Q\" if col == queen_pos else \" \")\n",
    "        board.append(row)\n",
    "\n",
    "    for row in board:\n",
    "        res.append(\"| \" + \" | \".join(row) + \" | \")\n",
    "\n",
    "    return \"\\n\".join(res)\n",
    "\n",
    "\n",
    "result = [1, 3, 0, 2]\n",
    "print(draw_board(result))\n",
    "print(\"Result is valid:\", validate_result(result))"
   ]
  },
  {
   "cell_type": "code",
   "execution_count": null,
   "metadata": {
    "id": "FqOPyCmv_K65"
   },
   "outputs": [],
   "source": [
    "def n_queens(amount: int) -> list:\n",
    "    \"\"\"Given an amount of queens should return all the possible result for the configuration of queens\n",
    "\n",
    "    Result is provided as list of the queens position: [1, 3, 0, 2]\n",
    "    The index in array represents the row and the value is the column\n",
    "    \"\"\"\n",
    "    # validation of entry params\n",
    "    if amount < 1:\n",
    "        raise Exception(\"amount should be bigger than 1\")\n",
    "\n",
    "    # generate nxn board based on given amount\n",
    "    board = [[0 for _ in range(amount)] for _ in range(amount)]\n",
    "    solutions = []\n",
    "\n",
    "    def solve_queen(board: list[list], y: int) -> bool:\n",
    "        # We reached the end of the board, therefore all the queens are placed\n",
    "        if y >= len(board):\n",
    "            solutions.append([row.index(1) for row in board])\n",
    "            return True\n",
    "\n",
    "        for x in range(len(board)):\n",
    "            possible_queen = (x, y)\n",
    "            if is_safe_to_place(board, possible_queen):\n",
    "                # Place queen in board\n",
    "                board[y][x] = 1\n",
    "\n",
    "                # Move to the next row\n",
    "                solve_queen(board, y + 1)\n",
    "\n",
    "                # rollback last queen placed\n",
    "                board[y][x] = 0\n",
    "\n",
    "        # if no queen can be placed in the row we go back\n",
    "        return False\n",
    "\n",
    "    solve_queen(board, 0)\n",
    "    # res = [row.index(1) for row in board]\n",
    "    return solutions\n",
    "\n",
    "\n",
    "test_cases = [4, 6, 8]\n",
    "\n",
    "for amount in test_cases:\n",
    "    result = n_queens(amount)\n",
    "    print(f\"Solutions found for {amount} queens {len(result)}\")\n",
    "    print(draw_board(result[0]))\n",
    "    print()"
   ]
  },
  {
   "cell_type": "code",
   "execution_count": null,
   "metadata": {},
   "outputs": [],
   "source": [
    "input_sizes = list(range(1, 12))\n",
    "exec_time = [timeit(lambda: n_queens(n), number=1) for n in input_sizes]\n",
    "\n",
    "sns.lineplot(x=input_sizes, y=exec_time)\n",
    "\n",
    "plt.xticks(input_sizes)\n",
    "\n",
    "plt.xlabel(\"n\")\n",
    "plt.ylabel(\"Time (s)\")\n",
    "plt.title(\"Time to find solution for (n x n) board\")\n",
    "\n",
    "plt.show()"
   ]
  }
 ],
 "metadata": {
  "colab": {
   "provenance": [],
   "toc_visible": true
  },
  "kernelspec": {
   "display_name": "Python 3 (ipykernel)",
   "language": "python",
   "name": "python3"
  },
  "language_info": {
   "codemirror_mode": {
    "name": "ipython",
    "version": 3
   },
   "file_extension": ".py",
   "mimetype": "text/x-python",
   "name": "python",
   "nbconvert_exporter": "python",
   "pygments_lexer": "ipython3",
   "version": "3.1.-1"
  }
 },
 "nbformat": 4,
 "nbformat_minor": 1
}
