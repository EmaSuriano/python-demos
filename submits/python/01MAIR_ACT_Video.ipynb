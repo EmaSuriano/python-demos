{
 "cells": [
  {
   "cell_type": "markdown",
   "metadata": {},
   "source": [
    "## 01MIAR - Actividad Video Valencia Pollution\n",
    "\n",
    "## NumPy y Pandas\n",
    "\n",
    "### Objetivos:\n",
    "\n",
    "- Aplicar diferentes técnicas de tratamiento de estructuras numéricas con Numpy y datos estructurados con Pandas.\n",
    "\n",
    "### Instrucciones:\n",
    "\n",
    "- Mantener una estructura limpia, comentando código y secuenciando los apartados con el código correspondiente que resuelva la actividad.\n",
    "- Como criterio de evaluación se tendrá en cuenta el resultado, la consecución del mismo, estilo, comentarios y adecuación. Siempre será tenido en cuenta cualquier detalle técnico avanzado o no visto en clase relacionado con el tema (explicar el porqué y usabilidad).\n",
    "- No está permitido compartir los resultados ni el código en ninguno de los foros.\n",
    "- Revisar los temas así como las sesiones sobre Numpy y Pandas para aplicar dichos contenidos.\n",
    "- Proponer las respuestas en las celdas a dicho efecto en cada punto, si se necesitan más celdas añadirlas en su sitio correspondiente\n",
    "- Mostrar de manera clara la respuesta a las preguntas, mediante código\n",
    "\n",
    "### Entrega:\n",
    "\n",
    "- Este mismo notebook con las respuetas\n",
    "\n",
    "### Evaluación\n",
    "\n",
    "- Esta actividad corresponde con el 10% de la nota final de la asignatura.\n",
    "\n",
    "### Fecha Realización\n",
    "\n",
    "- Convocatoria 1 - 31/05/2024 - 01/06/2024\n"
   ]
  },
  {
   "cell_type": "markdown",
   "metadata": {},
   "source": [
    "#### Descripción\n",
    "\n",
    "El conjunto de datos \"valencia_pollution_dataset.csv\" (fichero disponible adjunto a la actividad) proviene de una descarga de datos del servicio web del ayuntamiento de la ciudad de Valencia de datos abiertos.\n",
    "\n",
    "Los datos recabados de este servicio web son de mediciones cada hora de una serie de estaciones de contaminación atmosférica.\n",
    "\n",
    "https://valencia.opendatasoft.com/explore/dataset/estacions-contaminacio-atmosferiques-estaciones-contaminacion-atmosfericas/information/\n",
    "\n",
    "Cada estación realiza una serie de mediciones acerca de la calidad del aire, y de ciertas sustancias que se consideran importantes para analizar la contaminación atmosférica en la ciudad.\n",
    "\n",
    "#### Columnas para trabajar:\n",
    "\n",
    "- objectid: id de la estación\n",
    "- nombre: nombre de la estación\n",
    "- dirección: dirección de la estación\n",
    "- tipozona: tipo de la zona, urbana o sub urbana\n",
    "- tipoemision: tráfico o fondo\n",
    "- so2: niveles de dióxido de azufre\n",
    "- no2: niveles de dióxido de nitrogeno\n",
    "- o3: niveles de ozono\n",
    "- co: niveles de monóxido de carbono\n",
    "- pm10: niveles de partículas en suspensión hasta 10um\n",
    "- pm25: niveles de partículas en suspensión hasta 2,5um\n",
    "- fecha_carga: timestamp de la actualización de los datos\n",
    "- calidad_ambiental: estimación de la calidad del aire\n"
   ]
  },
  {
   "cell_type": "code",
   "execution_count": 210,
   "metadata": {
    "tags": []
   },
   "outputs": [],
   "source": [
    "# classic DS libs\n",
    "import pandas as pd\n",
    "import numpy as np\n",
    "\n",
    "# visualization libs\n",
    "import seaborn as sns\n",
    "import matplotlib.pyplot as plt\n",
    "\n",
    "%matplotlib inline\n",
    "\n",
    "# Avoid annoying warning for deprecations ...\n",
    "import warnings\n",
    "\n",
    "warnings.simplefilter(action=\"ignore\", category=FutureWarning)"
   ]
  },
  {
   "cell_type": "markdown",
   "metadata": {},
   "source": [
    "## 01\n",
    "\n",
    "Carga de datos de csv (valencia_pollution_dataset.csv) en un DataFrame\n"
   ]
  },
  {
   "cell_type": "code",
   "execution_count": 211,
   "metadata": {},
   "outputs": [
    {
     "data": {
      "text/html": [
       "<div>\n",
       "<style scoped>\n",
       "    .dataframe tbody tr th:only-of-type {\n",
       "        vertical-align: middle;\n",
       "    }\n",
       "\n",
       "    .dataframe tbody tr th {\n",
       "        vertical-align: top;\n",
       "    }\n",
       "\n",
       "    .dataframe thead th {\n",
       "        text-align: right;\n",
       "    }\n",
       "</style>\n",
       "<table border=\"1\" class=\"dataframe\">\n",
       "  <thead>\n",
       "    <tr style=\"text-align: right;\">\n",
       "      <th></th>\n",
       "      <th>objectid</th>\n",
       "      <th>nombre</th>\n",
       "      <th>direccion</th>\n",
       "      <th>tipozona</th>\n",
       "      <th>tipoemision</th>\n",
       "      <th>so2</th>\n",
       "      <th>no2</th>\n",
       "      <th>o3</th>\n",
       "      <th>co</th>\n",
       "      <th>pm10</th>\n",
       "      <th>pm25</th>\n",
       "      <th>fecha_carga</th>\n",
       "      <th>calidad_ambiental</th>\n",
       "    </tr>\n",
       "  </thead>\n",
       "  <tbody>\n",
       "    <tr>\n",
       "      <th>0</th>\n",
       "      <td>26</td>\n",
       "      <td>Pista de Silla</td>\n",
       "      <td>C/ Filipinas, s/n</td>\n",
       "      <td>Urbana</td>\n",
       "      <td>Tráfico</td>\n",
       "      <td>0.0</td>\n",
       "      <td>10</td>\n",
       "      <td>71.0</td>\n",
       "      <td>0.7</td>\n",
       "      <td>8.0</td>\n",
       "      <td>3.0</td>\n",
       "      <td>2024-05-24T20:20:06+00:00</td>\n",
       "      <td>Razonablemente Buena</td>\n",
       "    </tr>\n",
       "    <tr>\n",
       "      <th>1</th>\n",
       "      <td>28</td>\n",
       "      <td>Viveros</td>\n",
       "      <td>Jardines de Viveros</td>\n",
       "      <td>Urbana</td>\n",
       "      <td>Fondo</td>\n",
       "      <td>0.0</td>\n",
       "      <td>5</td>\n",
       "      <td>88.0</td>\n",
       "      <td>NaN</td>\n",
       "      <td>NaN</td>\n",
       "      <td>NaN</td>\n",
       "      <td>2024-05-24T20:20:08+00:00</td>\n",
       "      <td>Razonablemente Buena</td>\n",
       "    </tr>\n",
       "    <tr>\n",
       "      <th>2</th>\n",
       "      <td>431</td>\n",
       "      <td>Olivereta</td>\n",
       "      <td>Av. del Cid amb Av. de les Tres Creus</td>\n",
       "      <td>Urbana</td>\n",
       "      <td>Tráfico</td>\n",
       "      <td>NaN</td>\n",
       "      <td>24</td>\n",
       "      <td>NaN</td>\n",
       "      <td>NaN</td>\n",
       "      <td>20.0</td>\n",
       "      <td>11.0</td>\n",
       "      <td>2024-05-24T20:20:11+00:00</td>\n",
       "      <td>Razonablemente Buena</td>\n",
       "    </tr>\n",
       "    <tr>\n",
       "      <th>3</th>\n",
       "      <td>432</td>\n",
       "      <td>Patraix</td>\n",
       "      <td>Archiduque Carlos, 84ac</td>\n",
       "      <td>Urbana</td>\n",
       "      <td>Tráfico</td>\n",
       "      <td>NaN</td>\n",
       "      <td>15</td>\n",
       "      <td>NaN</td>\n",
       "      <td>NaN</td>\n",
       "      <td>20.0</td>\n",
       "      <td>11.0</td>\n",
       "      <td>2024-05-24T20:20:12+00:00</td>\n",
       "      <td>Razonablemente Buena</td>\n",
       "    </tr>\n",
       "    <tr>\n",
       "      <th>4</th>\n",
       "      <td>23</td>\n",
       "      <td>Francia</td>\n",
       "      <td>Avda. de Francia, 60</td>\n",
       "      <td>Urbana</td>\n",
       "      <td>Tráfico</td>\n",
       "      <td>1.0</td>\n",
       "      <td>3</td>\n",
       "      <td>82.0</td>\n",
       "      <td>0.1</td>\n",
       "      <td>9.0</td>\n",
       "      <td>6.0</td>\n",
       "      <td>2024-05-24T20:20:04+00:00</td>\n",
       "      <td>Razonablemente Buena</td>\n",
       "    </tr>\n",
       "  </tbody>\n",
       "</table>\n",
       "</div>"
      ],
      "text/plain": [
       "   objectid          nombre                              direccion tipozona  \\\n",
       "0        26  Pista de Silla                      C/ Filipinas, s/n   Urbana   \n",
       "1        28         Viveros                    Jardines de Viveros   Urbana   \n",
       "2       431       Olivereta  Av. del Cid amb Av. de les Tres Creus   Urbana   \n",
       "3       432         Patraix                Archiduque Carlos, 84ac   Urbana   \n",
       "4        23         Francia                   Avda. de Francia, 60   Urbana   \n",
       "\n",
       "  tipoemision  so2  no2    o3   co  pm10  pm25                fecha_carga  \\\n",
       "0     Tráfico  0.0   10  71.0  0.7   8.0   3.0  2024-05-24T20:20:06+00:00   \n",
       "1       Fondo  0.0    5  88.0  NaN   NaN   NaN  2024-05-24T20:20:08+00:00   \n",
       "2     Tráfico  NaN   24   NaN  NaN  20.0  11.0  2024-05-24T20:20:11+00:00   \n",
       "3     Tráfico  NaN   15   NaN  NaN  20.0  11.0  2024-05-24T20:20:12+00:00   \n",
       "4     Tráfico  1.0    3  82.0  0.1   9.0   6.0  2024-05-24T20:20:04+00:00   \n",
       "\n",
       "      calidad_ambiental  \n",
       "0  Razonablemente Buena  \n",
       "1  Razonablemente Buena  \n",
       "2  Razonablemente Buena  \n",
       "3  Razonablemente Buena  \n",
       "4  Razonablemente Buena  "
      ]
     },
     "execution_count": 211,
     "metadata": {},
     "output_type": "execute_result"
    }
   ],
   "source": [
    "# open csv using pandas\n",
    "path_to_csv = \"./valencia_pollution_dataset.csv\"\n",
    "df = pd.read_csv(path_to_csv)\n",
    "\n",
    "# display first 5 rows\n",
    "df.head()"
   ]
  },
  {
   "cell_type": "code",
   "execution_count": 212,
   "metadata": {},
   "outputs": [
    {
     "name": "stdout",
     "output_type": "stream",
     "text": [
      "<class 'pandas.core.frame.DataFrame'>\n",
      "RangeIndex: 396 entries, 0 to 395\n",
      "Data columns (total 13 columns):\n",
      " #   Column             Non-Null Count  Dtype  \n",
      "---  ------             --------------  -----  \n",
      " 0   objectid           396 non-null    int64  \n",
      " 1   nombre             396 non-null    object \n",
      " 2   direccion          396 non-null    object \n",
      " 3   tipozona           396 non-null    object \n",
      " 4   tipoemision        396 non-null    object \n",
      " 5   so2                216 non-null    float64\n",
      " 6   no2                396 non-null    int64  \n",
      " 7   o3                 216 non-null    float64\n",
      " 8   co                 108 non-null    float64\n",
      " 9   pm10               288 non-null    float64\n",
      " 10  pm25               288 non-null    float64\n",
      " 11  fecha_carga        396 non-null    object \n",
      " 12  calidad_ambiental  396 non-null    object \n",
      "dtypes: float64(5), int64(2), object(6)\n",
      "memory usage: 40.3+ KB\n"
     ]
    }
   ],
   "source": [
    "# Display info of DF\n",
    "df.info()"
   ]
  },
  {
   "cell_type": "code",
   "execution_count": 213,
   "metadata": {},
   "outputs": [
    {
     "data": {
      "text/html": [
       "<div>\n",
       "<style scoped>\n",
       "    .dataframe tbody tr th:only-of-type {\n",
       "        vertical-align: middle;\n",
       "    }\n",
       "\n",
       "    .dataframe tbody tr th {\n",
       "        vertical-align: top;\n",
       "    }\n",
       "\n",
       "    .dataframe thead th {\n",
       "        text-align: right;\n",
       "    }\n",
       "</style>\n",
       "<table border=\"1\" class=\"dataframe\">\n",
       "  <thead>\n",
       "    <tr style=\"text-align: right;\">\n",
       "      <th></th>\n",
       "      <th>objectid</th>\n",
       "      <th>so2</th>\n",
       "      <th>no2</th>\n",
       "      <th>o3</th>\n",
       "      <th>co</th>\n",
       "      <th>pm10</th>\n",
       "      <th>pm25</th>\n",
       "    </tr>\n",
       "  </thead>\n",
       "  <tbody>\n",
       "    <tr>\n",
       "      <th>count</th>\n",
       "      <td>396.000000</td>\n",
       "      <td>216.000000</td>\n",
       "      <td>396.000000</td>\n",
       "      <td>216.0000</td>\n",
       "      <td>108.000000</td>\n",
       "      <td>288.000000</td>\n",
       "      <td>288.000000</td>\n",
       "    </tr>\n",
       "    <tr>\n",
       "      <th>mean</th>\n",
       "      <td>208.818182</td>\n",
       "      <td>1.449074</td>\n",
       "      <td>8.921717</td>\n",
       "      <td>71.0000</td>\n",
       "      <td>0.366667</td>\n",
       "      <td>14.687500</td>\n",
       "      <td>8.031250</td>\n",
       "    </tr>\n",
       "    <tr>\n",
       "      <th>std</th>\n",
       "      <td>264.784847</td>\n",
       "      <td>1.400066</td>\n",
       "      <td>6.453058</td>\n",
       "      <td>13.0662</td>\n",
       "      <td>0.250607</td>\n",
       "      <td>6.258061</td>\n",
       "      <td>3.224859</td>\n",
       "    </tr>\n",
       "    <tr>\n",
       "      <th>min</th>\n",
       "      <td>22.000000</td>\n",
       "      <td>0.000000</td>\n",
       "      <td>0.000000</td>\n",
       "      <td>36.0000</td>\n",
       "      <td>0.100000</td>\n",
       "      <td>6.000000</td>\n",
       "      <td>2.000000</td>\n",
       "    </tr>\n",
       "    <tr>\n",
       "      <th>25%</th>\n",
       "      <td>24.000000</td>\n",
       "      <td>0.000000</td>\n",
       "      <td>4.000000</td>\n",
       "      <td>63.0000</td>\n",
       "      <td>0.100000</td>\n",
       "      <td>7.000000</td>\n",
       "      <td>5.750000</td>\n",
       "    </tr>\n",
       "    <tr>\n",
       "      <th>50%</th>\n",
       "      <td>27.000000</td>\n",
       "      <td>1.000000</td>\n",
       "      <td>7.000000</td>\n",
       "      <td>75.0000</td>\n",
       "      <td>0.300000</td>\n",
       "      <td>16.500000</td>\n",
       "      <td>8.500000</td>\n",
       "    </tr>\n",
       "    <tr>\n",
       "      <th>75%</th>\n",
       "      <td>431.000000</td>\n",
       "      <td>2.000000</td>\n",
       "      <td>12.000000</td>\n",
       "      <td>81.0000</td>\n",
       "      <td>0.700000</td>\n",
       "      <td>19.000000</td>\n",
       "      <td>10.000000</td>\n",
       "    </tr>\n",
       "    <tr>\n",
       "      <th>max</th>\n",
       "      <td>829.000000</td>\n",
       "      <td>5.000000</td>\n",
       "      <td>39.000000</td>\n",
       "      <td>90.0000</td>\n",
       "      <td>0.700000</td>\n",
       "      <td>25.000000</td>\n",
       "      <td>14.000000</td>\n",
       "    </tr>\n",
       "  </tbody>\n",
       "</table>\n",
       "</div>"
      ],
      "text/plain": [
       "         objectid         so2         no2        o3          co        pm10  \\\n",
       "count  396.000000  216.000000  396.000000  216.0000  108.000000  288.000000   \n",
       "mean   208.818182    1.449074    8.921717   71.0000    0.366667   14.687500   \n",
       "std    264.784847    1.400066    6.453058   13.0662    0.250607    6.258061   \n",
       "min     22.000000    0.000000    0.000000   36.0000    0.100000    6.000000   \n",
       "25%     24.000000    0.000000    4.000000   63.0000    0.100000    7.000000   \n",
       "50%     27.000000    1.000000    7.000000   75.0000    0.300000   16.500000   \n",
       "75%    431.000000    2.000000   12.000000   81.0000    0.700000   19.000000   \n",
       "max    829.000000    5.000000   39.000000   90.0000    0.700000   25.000000   \n",
       "\n",
       "             pm25  \n",
       "count  288.000000  \n",
       "mean     8.031250  \n",
       "std      3.224859  \n",
       "min      2.000000  \n",
       "25%      5.750000  \n",
       "50%      8.500000  \n",
       "75%     10.000000  \n",
       "max     14.000000  "
      ]
     },
     "execution_count": 213,
     "metadata": {},
     "output_type": "execute_result"
    }
   ],
   "source": [
    "# Take a look at the description of our data\n",
    "df.describe()"
   ]
  },
  {
   "cell_type": "code",
   "execution_count": 214,
   "metadata": {},
   "outputs": [
    {
     "data": {
      "text/plain": [
       "objectid              11\n",
       "nombre                11\n",
       "direccion             11\n",
       "tipozona               2\n",
       "tipoemision            2\n",
       "so2                    6\n",
       "no2                   31\n",
       "o3                    51\n",
       "co                     3\n",
       "pm10                  15\n",
       "pm25                  13\n",
       "fecha_carga          315\n",
       "calidad_ambiental      2\n",
       "dtype: int64"
      ]
     },
     "execution_count": 214,
     "metadata": {},
     "output_type": "execute_result"
    }
   ],
   "source": [
    "# Check for duplication\n",
    "df.nunique()"
   ]
  },
  {
   "cell_type": "code",
   "execution_count": 215,
   "metadata": {},
   "outputs": [],
   "source": [
    "# DF cleaning\n",
    "\n",
    "# Use proper type for dates\n",
    "df[\"fecha_carga\"] = pd.to_datetime(df[\"fecha_carga\"])\n",
    "\n",
    "# Use category field for restrictive fields\n",
    "df[\"calidad_ambiental\"] = df[\"calidad_ambiental\"].astype(\"category\")\n",
    "df[\"tipozona\"] = df[\"tipozona\"].astype(\"category\")\n",
    "df[\"tipoemision\"] = df[\"calidad_ambiental\"].astype(\"category\")"
   ]
  },
  {
   "cell_type": "markdown",
   "metadata": {},
   "source": [
    "## 02\n",
    "\n",
    "- ¿Cuál es el rango temporal del dataset?\n",
    "- Obtención del número de estaciones que tienen un sensor para medir monóxido de carbono\n"
   ]
  },
  {
   "cell_type": "code",
   "execution_count": 216,
   "metadata": {},
   "outputs": [
    {
     "name": "stdout",
     "output_type": "stream",
     "text": [
      "Rango temporal del dataset: desde 24 May 2024 hasta 26 May 2024\n"
     ]
    }
   ],
   "source": [
    "# using date formatting to make dates more readable\n",
    "DATE_FORMAT = \"%d %b %Y\"\n",
    "\n",
    "# get min and max date using min() and max()\n",
    "min_date = df[\"fecha_carga\"].min()\n",
    "max_date = df[\"fecha_carga\"].max()\n",
    "\n",
    "# Display output\n",
    "print(\n",
    "    f\"Rango temporal del dataset: desde {min_date.strftime(DATE_FORMAT)} hasta {max_date.strftime(DATE_FORMAT)}\"\n",
    ")"
   ]
  },
  {
   "cell_type": "code",
   "execution_count": 217,
   "metadata": {},
   "outputs": [
    {
     "name": "stdout",
     "output_type": "stream",
     "text": [
      "Cantidad de estaciones que reportan mediciones de CO: 108\n"
     ]
    }
   ],
   "source": [
    "# First we get the rows that have measures of co and then we simply count them\n",
    "stations_co_amount = df[\"co\"].count()\n",
    "\n",
    "# Display output\n",
    "print(f\"Cantidad de estaciones que reportan mediciones de CO: {stations_co_amount}\")"
   ]
  },
  {
   "cell_type": "markdown",
   "metadata": {},
   "source": [
    "## 03\n",
    "\n",
    "- Número de estación con la media más alta de mediciones de monóxido de carbono\n"
   ]
  },
  {
   "cell_type": "code",
   "execution_count": 218,
   "metadata": {},
   "outputs": [
    {
     "name": "stdout",
     "output_type": "stream",
     "text": [
      "El número de estación con la medición mas alta es: 26\n"
     ]
    }
   ],
   "source": [
    "# Group measures by terminal and the maximum value of CO\n",
    "max_co_by_terminal = df.groupby(by=\"objectid\")[\"co\"].agg(\"max\")\n",
    "max_co_by_terminal.dropna(inplace=True)\n",
    "\n",
    "# Get the id based on the max value\n",
    "max_co_terminal = max_co_by_terminal.idxmax()\n",
    "print(f\"El número de estación con la medición mas alta es: {max_co_terminal}\")"
   ]
  },
  {
   "cell_type": "markdown",
   "metadata": {},
   "source": [
    "## 04\n",
    "\n",
    "Realizar el histograma de dióxido de nitrógeno de la estación del punto anterior\n"
   ]
  },
  {
   "cell_type": "code",
   "execution_count": 219,
   "metadata": {},
   "outputs": [
    {
     "data": {
      "image/png": "[encoded data removed]",
      "text/plain": [
       "<Figure size 640x480 with 1 Axes>"
      ]
     },
     "metadata": {},
     "output_type": "display_data"
    }
   ],
   "source": [
    "# Filter data using mask\n",
    "terminal_mask = df[\"objectid\"] == max_co_terminal\n",
    "\n",
    "# Use the mask\n",
    "data = df[terminal_mask]\n",
    "\n",
    "# Use histplot to show Histogram\n",
    "sns.histplot(data=data, x=\"no2\")\n",
    "\n",
    "# Set proper labelling\n",
    "plt.xticks(rotation=45, ha=\"right\")\n",
    "plt.title(f\"Histograma de NO2 para estación {max_co_terminal}\")\n",
    "plt.ylabel(\"Cantidad de tomas de NO2\")\n",
    "plt.xlabel(\"Fecha\")\n",
    "\n",
    "# Show graph\n",
    "plt.show()"
   ]
  },
  {
   "cell_type": "markdown",
   "metadata": {},
   "source": [
    "## 05\n",
    "\n",
    "Realizar gráfica con la línea temporal de las mediciones de ozono de la estación del punto anterior. Pista, la columna 'fecha_carga' habría que cambiarla de tipo.\n"
   ]
  },
  {
   "cell_type": "code",
   "execution_count": 220,
   "metadata": {},
   "outputs": [
    {
     "data": {
      "image/png": "[encoded data removed]",
      "text/plain": [
       "<Figure size 640x480 with 1 Axes>"
      ]
     },
     "metadata": {},
     "output_type": "display_data"
    }
   ],
   "source": [
    "# Filter data using mask\n",
    "terminal_mask = df[\"objectid\"] == max_co_terminal\n",
    "\n",
    "# Use the mask and select fields\n",
    "data = df[terminal_mask]\n",
    "\n",
    "# Use lineplot to show measurement over the time\n",
    "sns.lineplot(data=data, x=\"fecha_carga\", y=\"o3\")\n",
    "\n",
    "# Set appropiate labelling\n",
    "plt.xticks(rotation=45, ha=\"right\")\n",
    "plt.title(f\"Mediciones de O3 para estación {max_co_terminal}\")\n",
    "plt.ylabel(\"Nivel de O3\")\n",
    "plt.xlabel(\"Fecha\")\n",
    "\n",
    "# Show graph\n",
    "plt.show()"
   ]
  }
 ],
 "metadata": {
  "kernelspec": {
   "display_name": "Python 3 (ipykernel)",
   "language": "python",
   "name": "python3"
  },
  "language_info": {
   "codemirror_mode": {
    "name": "ipython",
    "version": 3
   },
   "file_extension": ".py",
   "mimetype": "text/x-python",
   "name": "python",
   "nbconvert_exporter": "python",
   "pygments_lexer": "ipython3",
   "version": "3.1.-1"
  }
 },
 "nbformat": 4,
 "nbformat_minor": 4
}
