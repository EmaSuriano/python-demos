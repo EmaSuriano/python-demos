{
 "cells": [
  {
   "cell_type": "markdown",
   "metadata": {},
   "source": [
    "## Determinante\n",
    "\n",
    "Tal y como ya hemos visto en clase, la variedad de herramientas proporcionadas por el algebra lineal son cruciales para desarrollar y fundamentar las bases de una variedad de tecnicas relacionadas con el aprendizaje automatico. Con ella, podemos describir el proceso de propagacion hacia adelante en una red neuronal, identificar mınimos locales en funciones multivariables (crucial para el proceso de retropropagacion) o la descripcion y empleo de metodos de reduccion de la dimensionalidad, como el analisis de componentes principales (PCA), entre muchas otras aplicaciones.\n",
    "\n",
    "Cuando trabajamos en la practica dentro de este ambito, la cantidad de datos que manejamos puede ser muy grande, por lo que es especialmente importante emplear algoritmos eficientes y optimizados para reducir el coste computacional en la medida de lo posible. Por todo ello, el objetivo de este ejercicio es el de ilustrar las diferentes alternativas que pueden existir para realizar un proceso relacionado con el algebra lineal y el impacto que puede tener cada variante en terminos del coste computacional del mismo. En este caso en particular, y a modo de ilustracion, nos centraremos en el calculo del determinante de una matriz.\n"
   ]
  },
  {
   "cell_type": "markdown",
   "metadata": {},
   "source": [
    "a) [1 punto] Implementa una funcion, `determinante_recursivo`, que obtenga el determinante de una matriz cuadrada utilizando la definicion recursiva de Laplace.\n"
   ]
  },
  {
   "cell_type": "code",
   "execution_count": 173,
   "metadata": {},
   "outputs": [],
   "source": [
    "import copy\n",
    "import random\n",
    "import math"
   ]
  },
  {
   "cell_type": "code",
   "execution_count": 159,
   "metadata": {},
   "outputs": [
    {
     "name": "stdout",
     "output_type": "stream",
     "text": [
      "59\n"
     ]
    }
   ],
   "source": [
    "def get_square_matrix(n: int, n_range: tuple[int, int] = (0, 100)) -> list[list]:\n",
    "    \"\"\"generate random matrix of n size\n",
    "\n",
    "    Args:\n",
    "        n (int): amount of rows/columns\n",
    "        n_range (tuple[int, int], optional): range of numbers for each item in the matrix. Defaults to (0, 100).\n",
    "\n",
    "    Returns:\n",
    "        list[list]: generated matrix\n",
    "    \"\"\"\n",
    "    return [[random.randint(*n_range) for _ in range(n)] for _ in range(n)]\n",
    "\n",
    "\n",
    "def display_matrix(matrix: list[list]):\n",
    "    \"\"\"Display matrix in terminal nicely\n",
    "\n",
    "    Args:\n",
    "        matrix (list[list]): matrix that you want to display\n",
    "    \"\"\"\n",
    "    for i in range(len(matrix)):\n",
    "        print(\" \".join([f\"{n:02}\" for n in matrix[i]]))\n",
    "\n",
    "\n",
    "display_matrix(get_square_matrix(1))"
   ]
  },
  {
   "cell_type": "code",
   "execution_count": 160,
   "metadata": {},
   "outputs": [
    {
     "name": "stdout",
     "output_type": "stream",
     "text": [
      "99 11 53 72\n",
      "52 33 94 23\n",
      "28 43 11 39\n",
      "69 35 16 47\n",
      "Valor del determinante: 6319069\n"
     ]
    }
   ],
   "source": [
    "def determinante_recursivo(matrix: list[list]) -> float:\n",
    "    \"\"\"get determinant of a matrix using Laplace recursive method\n",
    "\n",
    "    Args:\n",
    "        matrix (list[list]): squared matrix to obtain the determinant from\n",
    "\n",
    "    Raises:\n",
    "        Exception: in case the matrix is not squared\n",
    "\n",
    "    Returns:\n",
    "        float: value of the determinant\n",
    "    \"\"\"\n",
    "    if len(matrix) != len(matrix[0]):\n",
    "        raise Exception(\"Matriz no es cuadrada...\")\n",
    "\n",
    "    if len(matrix) == 2:\n",
    "        a, b = matrix[0]\n",
    "        c, d = matrix[1]\n",
    "        return a * d - b * c\n",
    "\n",
    "    res = 0\n",
    "    for i, n in enumerate(matrix[0]):\n",
    "        sub_matrix = [[el for j, el in enumerate(row) if j != i] for row in matrix[1:]]\n",
    "        res += n * (-1) ** i * determinante_recursivo(sub_matrix)\n",
    "\n",
    "    return res\n",
    "\n",
    "\n",
    "matrix = get_square_matrix(4)\n",
    "\n",
    "display_matrix(matrix)\n",
    "print(\"Valor del determinante:\", determinante_recursivo(matrix))"
   ]
  },
  {
   "cell_type": "markdown",
   "metadata": {},
   "source": [
    "b) [0.5 puntos] Si A es una matriz cuadrada n×n y triangular (superior o inferior, es decir, con entradas nulas por debajo o por encima de la diagonal, respectivamente), ¿existe alguna forma de calcular de forma directa y sencilla su determinante? Justifıquese larespuesta.\n"
   ]
  },
  {
   "cell_type": "code",
   "execution_count": 161,
   "metadata": {},
   "outputs": [
    {
     "name": "stdout",
     "output_type": "stream",
     "text": [
      "Matriz Triangular superior valid: True\n",
      "01 00 00 00\n",
      "67 09 00 00\n",
      "79 22 51 00\n",
      "21 43 20 84\n",
      "Matriz Triangular inferior valid: True\n",
      "34 00 00 00\n",
      "13 37 00 00\n",
      "35 40 17 00\n",
      "18 02 76 76\n"
     ]
    }
   ],
   "source": [
    "def is_valid_matrix_triangular(matrix: list[list]) -> bool:\n",
    "    \"\"\"checks if a matrix is triangular and squared\n",
    "\n",
    "    Args:\n",
    "        matrix (list[list]): matrix to check\n",
    "\n",
    "    Returns:\n",
    "        bool: if the matrix is triangular\n",
    "    \"\"\"\n",
    "    is_superior = True\n",
    "    is_inferior = True\n",
    "\n",
    "    for i in range(len(matrix)):\n",
    "        for j in range(len(matrix)):\n",
    "            if j > i and matrix[i][j] != 0:\n",
    "                is_superior = False\n",
    "\n",
    "    for i in range(len(matrix)):\n",
    "        for j in range(len(matrix)):\n",
    "            if j < i and matrix[i][j] != 0:\n",
    "                is_inferior = False\n",
    "\n",
    "    return is_superior or is_inferior\n",
    "\n",
    "\n",
    "def get_triangular_matrix(\n",
    "    n: int, n_range: tuple[int, int] = (0, 100), superior=True\n",
    ") -> list[list]:\n",
    "    \"\"\"generate a triangular matrix either superior or inferior\n",
    "\n",
    "    Args:\n",
    "        n (int): amount of rows/columns\n",
    "        n_range (tuple[int, int], optional): range of numbers for each item in the matrix. Defaults to (0, 100).\n",
    "        superior (bool, optional): if the resulting matrix should be superior or not. Defaults to True.\n",
    "\n",
    "    Returns:\n",
    "        list[list]: triangular matrix\n",
    "    \"\"\"\n",
    "    matrix = get_square_matrix(n, n_range)\n",
    "\n",
    "    if superior:\n",
    "        for i in range(len(matrix)):\n",
    "            for j in range(len(matrix)):\n",
    "                if j > i:\n",
    "                    matrix[i][j] = 0\n",
    "    else:\n",
    "        for i in range(len(matrix)):\n",
    "            for j in range(len(matrix)):\n",
    "                if j < i:\n",
    "                    matrix[i][j] = 0\n",
    "\n",
    "    return matrix\n",
    "\n",
    "\n",
    "superior_matrix = get_triangular_matrix(4, superior=True)\n",
    "inferior_matrix = get_triangular_matrix(4, superior=True)\n",
    "\n",
    "print(\"Matriz Triangular superior valid:\", is_valid_matrix_triangular(superior_matrix))\n",
    "display_matrix(superior_matrix)\n",
    "\n",
    "print(\"Matriz Triangular inferior valid:\", is_valid_matrix_triangular(inferior_matrix))\n",
    "display_matrix(inferior_matrix)"
   ]
  },
  {
   "cell_type": "code",
   "execution_count": 168,
   "metadata": {},
   "outputs": [
    {
     "name": "stdout",
     "output_type": "stream",
     "text": [
      "Matriz inferior:\n",
      "68 25 31\n",
      "00 34 67\n",
      "00 00 67\n",
      "Valor del determinante utlizando diagonal principal: 154904\n",
      "Valor del determinante utlizando Laplace: 154904\n",
      "----\n",
      "Matriz superior:\n",
      "01 00 00\n",
      "84 32 00\n",
      "79 28 17\n",
      "Valor del determinante utlizando diagonal principal: 544\n",
      "Valor del determinante utlizando Laplace: 544\n",
      "----\n",
      "Justificacion:\n",
      "    El determinante para una matrix triangular se puede calcular como la multiplicacion de los elementos de su diagonal.\n",
      "    Como se puede observar para las dos matrices triangulares (inferior o superior), el resultado del determinante mediante los dos metodos es el mismo.\n",
      "    \n",
      "    \n"
     ]
    }
   ],
   "source": [
    "def determinante_matriz_triangular(matrix: list[list]) -> float:\n",
    "    \"\"\"calculate determinant of a matrix using only the diagonal of it\n",
    "    Args:\n",
    "        matrix (list[list]): squared and diagonal matrix to obtain the determinant from\n",
    "\n",
    "    Raises:\n",
    "        Exception: in case the matrix is not diagonal\n",
    "\n",
    "    Returns:\n",
    "        float: value of the determinant\n",
    "    \"\"\"\n",
    "    if not is_valid_matrix_triangular(matrix):\n",
    "        raise Exception(\"Matriz no es triangular (inferior o superior)\")\n",
    "\n",
    "    res = matrix[0][0]\n",
    "    for i in range(1, len(matrix)):\n",
    "        res *= matrix[i][i]\n",
    "\n",
    "    return res\n",
    "\n",
    "\n",
    "# generate two triangular matrixes, one inferior and another superior to run the assertions\n",
    "for superior in range(2):\n",
    "    triangular_matrix = get_triangular_matrix(3, superior=superior)\n",
    "\n",
    "    print(\"Matriz\", \"superior:\" if superior else \"inferior:\")\n",
    "    display_matrix(triangular_matrix)\n",
    "\n",
    "    print(\n",
    "        \"Valor del determinante utlizando diagonal principal:\",\n",
    "        determinante_matriz_triangular(triangular_matrix),\n",
    "    )\n",
    "    print(\n",
    "        \"Valor del determinante utlizando Laplace:\",\n",
    "        determinante_recursivo(triangular_matrix),\n",
    "    )\n",
    "    print(\"----\")\n",
    "\n",
    "print(\n",
    "    \"\"\"Justificacion:\n",
    "    El determinante para una matrix triangular se puede calcular como la multiplicacion de los elementos de su diagonal.\n",
    "    Como se puede observar para las dos matrices triangulares (inferior o superior), el resultado del determinante mediante los dos metodos es el mismo.\n",
    "    \n",
    "    \"\"\"\n",
    ")"
   ]
  },
  {
   "cell_type": "markdown",
   "metadata": {},
   "source": [
    "c) [0.5 puntos] Determınese de forma justificada como alteran el determinante de una matriz n × n las dos operaciones elementales siguientes:\n",
    "\n",
    "- Intercambiar una fila (o columna) por otra fila (o columna).\n",
    "- Sumar a una fila (o columna) otra fila (o columna) multiplicada por un escalar α.\n"
   ]
  },
  {
   "cell_type": "code",
   "execution_count": 182,
   "metadata": {},
   "outputs": [],
   "source": [
    "def swap_matrix_rows(matrix: list[list], rows: tuple[int, int]) -> list[list]:\n",
    "    \"\"\"swap rows of a matrix\n",
    "\n",
    "    Args:\n",
    "        matrix (list[list]): matrix\n",
    "        row1 (tuple[int, int]): rows to swap\n",
    "\n",
    "    Returns:\n",
    "        list[list]: matrix with the rows swapped\n",
    "    \"\"\"\n",
    "    # copy parameter matrix to avoid modifying parameters\n",
    "    matrix_copy = copy.deepcopy(matrix)\n",
    "\n",
    "    matrix_copy[rows[0]], matrix_copy[rows[1]] = (\n",
    "        matrix_copy[rows[1]],\n",
    "        matrix_copy[rows[0]],\n",
    "    )\n",
    "\n",
    "    return matrix_copy\n",
    "\n",
    "\n",
    "def swap_matrix_columns(matrix: list[list], cols: tuple[int, int]) -> list[list]:\n",
    "    \"\"\"swap columns of a matrix\n",
    "\n",
    "    Args:\n",
    "        matrix (list[list]): matrix\n",
    "        cols (tuple[int, int]): columns to swap\n",
    "\n",
    "    Returns:\n",
    "        list[list]: matrix with the rows swapped\n",
    "    \"\"\"\n",
    "    # copy parameter matrix to avoid modifying parameters\n",
    "    matrix_copy = copy.deepcopy(matrix)\n",
    "\n",
    "    for row in matrix_copy:\n",
    "        row[cols[0]], row[cols[1]] = row[cols[1]], row[cols[0]]\n",
    "\n",
    "    return matrix_copy"
   ]
  },
  {
   "cell_type": "code",
   "execution_count": 184,
   "metadata": {},
   "outputs": [
    {
     "name": "stdout",
     "output_type": "stream",
     "text": [
      "Matriz original: \n",
      "94 80 72\n",
      "25 33 58\n",
      "66 93 42\n",
      "Valor del determinante: -143928\n",
      "---\n",
      "Matriz con la primera fila intercambiada con la segunda: \n",
      "25 33 58\n",
      "94 80 72\n",
      "66 93 42\n",
      "Valor del determinante: 143928\n",
      "---\n",
      "Matriz con la primera columna intercambiada con la segunda: \n",
      "80 94 72\n",
      "33 25 58\n",
      "93 66 42\n",
      "Valor del determinante: 143928\n"
     ]
    }
   ],
   "source": [
    "original_matrix = get_square_matrix(3)\n",
    "\n",
    "print(\"Matriz original: \")\n",
    "display_matrix(original_matrix)\n",
    "print(\"Valor del determinante:\", determinante_recursivo(original_matrix))\n",
    "\n",
    "print(\"---\")\n",
    "\n",
    "matrix_with_exchange_row = swap_matrix_rows(original_matrix, (0, 1))\n",
    "print(\"Matriz con la primera fila intercambiada con la segunda: \")\n",
    "display_matrix(matrix_with_exchange_row)\n",
    "print(\"Valor del determinante:\", determinante_recursivo(matrix_with_exchange_row))\n",
    "\n",
    "\n",
    "print(\"---\")\n",
    "\n",
    "matrix_with_exchange_column = swap_matrix_columns(original_matrix, (0, 1))\n",
    "print(\"Matriz con la primera columna intercambiada con la segunda: \")\n",
    "display_matrix(matrix_with_exchange_column)\n",
    "print(\"Valor del determinante:\", determinante_recursivo(matrix_with_exchange_column))"
   ]
  },
  {
   "cell_type": "code",
   "execution_count": null,
   "metadata": {},
   "outputs": [],
   "source": []
  }
 ],
 "metadata": {
  "kernelspec": {
   "display_name": "base",
   "language": "python",
   "name": "python3"
  },
  "language_info": {
   "codemirror_mode": {
    "name": "ipython",
    "version": 3
   },
   "file_extension": ".py",
   "mimetype": "text/x-python",
   "name": "python",
   "nbconvert_exporter": "python",
   "pygments_lexer": "ipython3",
   "version": "3.11.7"
  }
 },
 "nbformat": 4,
 "nbformat_minor": 2
}
