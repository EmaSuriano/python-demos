{
 "cells": [
  {
   "cell_type": "markdown",
   "metadata": {},
   "source": [
    "# N queens (now with heuristics)\n",
    "\n",
    "The N Queen is the problem of placing N chess queens on an N×N chessboard so that no two queens attack each other. \n",
    "\n",
    "For example, the following is a solution for the 4 Queen problem.\n",
    "\n",
    "![Solution-Of-4-Queen-Problem.png](https://media.geeksforgeeks.org/wp-content/uploads/20230814111654/Solution-Of-4-Queen-Problem.png)\n",
    "\n",
    "The expected output is in the form of a matrix that has ‘Q‘s for the blocks where queens are placed and the empty spaces are represented by ‘.’ . For example, the following is the output matrix for the above 4-Queen solution."
   ]
  },
  {
   "cell_type": "code",
   "execution_count": 2,
   "metadata": {},
   "outputs": [],
   "source": [
    "def are_visible(pos1: tuple[int, int], pos2: tuple[int, int]) -> bool:\n",
    "    \"\"\"Given two positions, it returns if the queens are visible to each other\"\"\"\n",
    "    x1, y1 = pos1\n",
    "    x2, y2 = pos2\n",
    "\n",
    "    return x1 == x2 or y1 == y2 or abs(x1 - x2) == abs(y1 - y2)\n",
    "\n",
    "def is_safe(board: list[list], pos: tuple[int, int]) -> bool:\n",
    "    \"\"\"Given a board configuration and a position, it returns if the position will fit in the board\"\"\"\n",
    "    for y, row in enumerate(board):\n",
    "        try:\n",
    "            queen_x = row.index(1)\n",
    "            if are_visible((queen_x, y), pos):\n",
    "                return False\n",
    "\n",
    "        except ValueError:\n",
    "            # no queen in the current row, break the loop.\n",
    "            break\n",
    "\n",
    "    return True"
   ]
  },
  {
   "cell_type": "code",
   "execution_count": 3,
   "metadata": {},
   "outputs": [
    {
     "name": "stdout",
     "output_type": "stream",
     "text": [
      "Result is valid: True\n"
     ]
    }
   ],
   "source": [
    "def validate_result(queens: list) -> bool:\n",
    "    \"\"\"Validate if a queens configuration is valid\"\"\"\n",
    "    board = [[0 for _ in range(len(queens))] for _ in range(len(queens))]\n",
    "    \n",
    "    for y, x in enumerate(queens):\n",
    "        if not is_safe(board, (x, y)):\n",
    "            return False\n",
    "        \n",
    "        board[y][x] = 1\n",
    "    \n",
    "    return True\n",
    "\n",
    "result = [1, 3, 0, 2]\n",
    "print('Result is valid:', validate_result(result))"
   ]
  },
  {
   "cell_type": "code",
   "execution_count": 4,
   "metadata": {},
   "outputs": [
    {
     "name": "stdout",
     "output_type": "stream",
     "text": [
      "|   | Q |   |   | \n",
      "|   |   |   | Q | \n",
      "| Q |   |   |   | \n",
      "|   |   | Q |   | \n"
     ]
    }
   ],
   "source": [
    "def draw_board(queens: list) -> str:\n",
    "    \"\"\"Print the chessboard in order to visualize the result visually\n",
    "\n",
    "    Example: [0, 1, 2, 3] for queens located in (0,0), (1,1), (2,2), (3,3)\n",
    "    \"\"\"\n",
    "    res = []\n",
    "    board = []\n",
    "    for queen_pos in queens:\n",
    "        row = []\n",
    "        for col in range(len(queens)):\n",
    "            row.append(\"Q\" if col == queen_pos else \" \")\n",
    "        board.append(row)\n",
    "\n",
    "    for row in board:\n",
    "        res.append(\"| \" + \" | \".join(row) + \" | \")\n",
    "\n",
    "    return '\\n'.join(res)\n",
    "\n",
    "result = [1, 3, 0, 2]\n",
    "print(draw_board(result))"
   ]
  },
  {
   "cell_type": "code",
   "execution_count": 77,
   "metadata": {},
   "outputs": [
    {
     "name": "stdout",
     "output_type": "stream",
     "text": [
      "Valid Result:  True\n",
      "| Q |   |   |   |   |   |   |   |   |   |   |   |   |   |   |   |   |   |   |   | \n",
      "|   |   | Q |   |   |   |   |   |   |   |   |   |   |   |   |   |   |   |   |   | \n",
      "|   |   |   |   | Q |   |   |   |   |   |   |   |   |   |   |   |   |   |   |   | \n",
      "|   | Q |   |   |   |   |   |   |   |   |   |   |   |   |   |   |   |   |   |   | \n",
      "|   |   |   | Q |   |   |   |   |   |   |   |   |   |   |   |   |   |   |   |   | \n",
      "|   |   |   |   |   |   |   |   |   |   |   |   | Q |   |   |   |   |   |   |   | \n",
      "|   |   |   |   |   |   |   |   |   |   |   |   |   |   | Q |   |   |   |   |   | \n",
      "|   |   |   |   |   |   |   |   |   |   |   | Q |   |   |   |   |   |   |   |   | \n",
      "|   |   |   |   |   |   |   |   |   |   |   |   |   |   |   |   |   | Q |   |   | \n",
      "|   |   |   |   |   |   |   |   |   |   |   |   |   |   |   |   |   |   |   | Q | \n",
      "|   |   |   |   |   |   |   |   |   |   |   |   |   |   |   |   | Q |   |   |   | \n",
      "|   |   |   |   |   |   |   |   | Q |   |   |   |   |   |   |   |   |   |   |   | \n",
      "|   |   |   |   |   |   |   |   |   |   |   |   |   |   |   | Q |   |   |   |   | \n",
      "|   |   |   |   |   |   |   |   |   |   |   |   |   |   |   |   |   |   | Q |   | \n",
      "|   |   |   |   |   |   |   | Q |   |   |   |   |   |   |   |   |   |   |   |   | \n",
      "|   |   |   |   |   |   |   |   |   | Q |   |   |   |   |   |   |   |   |   |   | \n",
      "|   |   |   |   |   |   | Q |   |   |   |   |   |   |   |   |   |   |   |   |   | \n",
      "|   |   |   |   |   |   |   |   |   |   |   |   |   | Q |   |   |   |   |   |   | \n",
      "|   |   |   |   |   | Q |   |   |   |   |   |   |   |   |   |   |   |   |   |   | \n",
      "|   |   |   |   |   |   |   |   |   |   | Q |   |   |   |   |   |   |   |   |   | \n"
     ]
    }
   ],
   "source": [
    "def place_queen(board: list[list], y: int) -> bool:\n",
    "    # We reached the end of the board, therefore all the queens are placed\n",
    "    if y >= len(board):\n",
    "        return True\n",
    "\n",
    "    for x in range(len(board)):\n",
    "        possible_queen = (x, y)\n",
    "        if is_safe(board, possible_queen):\n",
    "            # Place queen in board\n",
    "            board[y][x] = 1\n",
    "\n",
    "            # Move to the next row\n",
    "            if place_queen(board, y + 1):\n",
    "                return True\n",
    "\n",
    "            # rollback last queen placed\n",
    "            board[y][x] = 0\n",
    "\n",
    "    # if no queen can be placed in the row we go back\n",
    "    return False\n",
    "\n",
    "\n",
    "def n_queens_classic(amount: int) -> list:\n",
    "    \"\"\"Given an amount of queens should return the configuration of queens\n",
    "\n",
    "    Result is provided as list of the queens position: [1, 3, 0, 2]\n",
    "    The index in array represents the row and the value is the column\n",
    "    \"\"\"\n",
    "    # validation of entry params\n",
    "    if amount < 1:\n",
    "        raise Exception(\"amount should be bigger than 1\")\n",
    "\n",
    "    # generate nxn board based on given amount\n",
    "    board = [[0 for _ in range(amount)] for _ in range(amount)]\n",
    "\n",
    "    if place_queen(board, 0) == False:\n",
    "        raise Exception(\n",
    "            f\"There is no possible solution for the given board: {amount}x{amount}\"\n",
    "        )\n",
    "\n",
    "    res = [row.index(1) for row in board]\n",
    "    return res\n",
    "\n",
    "\n",
    "result = n_queens_classic(20)\n",
    "print('Valid Result: ', validate_result(result))\n",
    "print(draw_board(result))"
   ]
  },
  {
   "cell_type": "code",
   "execution_count": 47,
   "metadata": {},
   "outputs": [],
   "source": [
    "def are_queen_visible(pos1: tuple[int, int], pos2: tuple[int, int]) -> bool:\n",
    "    \"\"\"Given two positions, it returns if the queens are visible to each other\"\"\"\n",
    "    x1, y1 = pos1\n",
    "    x2, y2 = pos2\n",
    "    return x1 == x2 or y1 == y2 or abs(x1 - x2) == abs(y1 - y2)\n",
    "\n",
    "\n",
    "def distancia_total(res: list) -> int:\n",
    "    '''The distance is given by the amount of queens attacking to each other, the more they attack, the bigger the distance'''\n",
    "    dist = 0\n",
    "\n",
    "    rows = set(range(len(res)))\n",
    "    \n",
    "    for currY, currX in enumerate(res): \n",
    "        for y in list(rows - {currY}):\n",
    "            dist += int(are_queen_visible((res[y], y), (currX, currY)))\n",
    "\n",
    "    return dist"
   ]
  },
  {
   "cell_type": "code",
   "execution_count": 73,
   "metadata": {},
   "outputs": [
    {
     "name": "stdout",
     "output_type": "stream",
     "text": [
      "True\n",
      "| Q |   |   |   |   |   |   |   |   |   |   |   |   |   |   |   |   |   |   |   | \n",
      "|   |   |   |   |   |   |   |   |   |   |   | Q |   |   |   |   |   |   |   |   | \n",
      "|   |   |   |   |   |   |   |   | Q |   |   |   |   |   |   |   |   |   |   |   | \n",
      "|   |   |   |   |   |   |   |   |   |   |   |   |   |   |   |   |   |   | Q |   | \n",
      "|   | Q |   |   |   |   |   |   |   |   |   |   |   |   |   |   |   |   |   |   | \n",
      "|   |   |   |   |   |   |   |   |   |   |   |   |   | Q |   |   |   |   |   |   | \n",
      "|   |   |   |   |   |   |   | Q |   |   |   |   |   |   |   |   |   |   |   |   | \n",
      "|   |   | Q |   |   |   |   |   |   |   |   |   |   |   |   |   |   |   |   |   | \n",
      "|   |   |   |   |   |   | Q |   |   |   |   |   |   |   |   |   |   |   |   |   | \n",
      "|   |   |   |   |   |   |   |   |   |   |   |   |   |   | Q |   |   |   |   |   | \n",
      "|   |   |   |   |   |   |   |   |   |   |   |   |   |   |   |   |   | Q |   |   | \n",
      "|   |   |   |   |   |   |   |   |   |   |   |   |   |   |   | Q |   |   |   |   | \n",
      "|   |   |   |   | Q |   |   |   |   |   |   |   |   |   |   |   |   |   |   |   | \n",
      "|   |   |   |   |   |   |   |   |   |   |   |   |   |   |   |   | Q |   |   |   | \n",
      "|   |   |   |   |   |   |   |   |   |   | Q |   |   |   |   |   |   |   |   |   | \n",
      "|   |   |   |   |   | Q |   |   |   |   |   |   |   |   |   |   |   |   |   |   | \n",
      "|   |   |   |   |   |   |   |   |   | Q |   |   |   |   |   |   |   |   |   |   | \n",
      "|   |   |   |   |   |   |   |   |   |   |   |   |   |   |   |   |   |   |   | Q | \n",
      "|   |   |   |   |   |   |   |   |   |   |   |   | Q |   |   |   |   |   |   |   | \n",
      "|   |   |   | Q |   |   |   |   |   |   |   |   |   |   |   |   |   |   |   |   | \n"
     ]
    }
   ],
   "source": [
    "import random\n",
    "import math\n",
    "\n",
    "def genera_vecina_aleatorio(solucion):\n",
    "\n",
    "    # Se eligen dos nodos aleatoriamente\n",
    "    i, j = sorted(random.sample(range(1, len(solucion)), 2))\n",
    "\n",
    "    # Devuelve una nueva solución pero intercambiando los dos nodos elegidos al azar\n",
    "    aux = solucion[:]\n",
    "    aux[i], aux[j] = aux[j], aux[i]\n",
    "    return aux\n",
    "\n",
    "\n",
    "# Funcion de probabilidad para aceptar peores soluciones\n",
    "def probabilidad(T, d):\n",
    "    return random.random() < math.exp(-1 * d / T)\n",
    "\n",
    "\n",
    "# Funcion de descenso de temperatura\n",
    "def bajar_temperatura(T):\n",
    "    return T * 0.999\n",
    "\n",
    "\n",
    "# Using Simulated Annealing heuristic --> https://en.wikipedia.org/wiki/Simulated_annealing\n",
    "def n_queens_SA(n: int, TEMPERATURA=10000000) -> list:\n",
    "    solucion_referencia = list(range(n))\n",
    "    distancia_referencia = distancia_total(solucion_referencia)\n",
    "\n",
    "    mejor_solucion = []  # x* del seudocodigo\n",
    "    mejor_distancia = 10e100  # F* del seudocodigo\n",
    "\n",
    "    N = 0\n",
    "    while TEMPERATURA > 0.0001:\n",
    "        N += 1\n",
    "\n",
    "        vecina = genera_vecina_aleatorio(solucion_referencia)\n",
    "\n",
    "        distancia_vecina = distancia_total(vecina)\n",
    "\n",
    "        if distancia_vecina < mejor_distancia:\n",
    "            mejor_solucion = vecina\n",
    "            mejor_distancia = distancia_vecina\n",
    "\n",
    "        if distancia_vecina < distancia_referencia or probabilidad(\n",
    "            TEMPERATURA, abs(distancia_referencia - distancia_vecina)\n",
    "        ):\n",
    "            solucion_referencia = vecina\n",
    "            distancia_referencia = distancia_vecina\n",
    "\n",
    "        TEMPERATURA = bajar_temperatura(TEMPERATURA)\n",
    "\n",
    "    return mejor_solucion\n",
    "\n",
    "\n",
    "result = n_queens_SA(20, 10000000)\n",
    "print(validate_result(result))\n",
    "print(draw_board(result))"
   ]
  },
  {
   "cell_type": "code",
   "execution_count": 81,
   "metadata": {},
   "outputs": [
    {
     "name": "stderr",
     "output_type": "stream",
     "text": [
      "/opt/homebrew/anaconda3/lib/python3.11/site-packages/seaborn/_oldcore.py:1119: FutureWarning: use_inf_as_na option is deprecated and will be removed in a future version. Convert inf values to NaN before operating instead.\n",
      "  with pd.option_context('mode.use_inf_as_na', True):\n",
      "/opt/homebrew/anaconda3/lib/python3.11/site-packages/seaborn/_oldcore.py:1119: FutureWarning: use_inf_as_na option is deprecated and will be removed in a future version. Convert inf values to NaN before operating instead.\n",
      "  with pd.option_context('mode.use_inf_as_na', True):\n",
      "/opt/homebrew/anaconda3/lib/python3.11/site-packages/seaborn/_oldcore.py:1119: FutureWarning: use_inf_as_na option is deprecated and will be removed in a future version. Convert inf values to NaN before operating instead.\n",
      "  with pd.option_context('mode.use_inf_as_na', True):\n",
      "/opt/homebrew/anaconda3/lib/python3.11/site-packages/seaborn/_oldcore.py:1119: FutureWarning: use_inf_as_na option is deprecated and will be removed in a future version. Convert inf values to NaN before operating instead.\n",
      "  with pd.option_context('mode.use_inf_as_na', True):\n"
     ]
    },
    {
     "data": {
      "image/png": "[encoded data removed]",
      "text/plain": [
       "<Figure size 640x480 with 1 Axes>"
      ]
     },
     "metadata": {},
     "output_type": "display_data"
    }
   ],
   "source": [
    "import seaborn as sns\n",
    "import matplotlib.pyplot as plt\n",
    "import timeit\n",
    "import numpy as np\n",
    "\n",
    "execution_time_classic = []\n",
    "execution_time_sa = []\n",
    "input_sizes = list(range(4, 20, 2))\n",
    "\n",
    "for n in input_sizes:\n",
    "    execution_time_sa.append(timeit.timeit(lambda: n_queens_SA(n), number=1))\n",
    "    execution_time_classic.append(timeit.timeit(lambda: n_queens_classic(n), number=1))\n",
    "\n",
    "sns.lineplot(x=input_sizes, y=execution_time_sa, label='Simulated Annealing')\n",
    "sns.lineplot(x=input_sizes, y=execution_time_classic, label='Classic')\n",
    "\n",
    "plt.xlabel(\"n\")\n",
    "plt.ylabel(\"Time (s)\")\n",
    "plt.title(\"Time to n number\")\n",
    "\n",
    "plt.show()"
   ]
  }
 ],
 "metadata": {
  "kernelspec": {
   "display_name": "base",
   "language": "python",
   "name": "python3"
  },
  "language_info": {
   "codemirror_mode": {
    "name": "ipython",
    "version": 3
   },
   "file_extension": ".py",
   "mimetype": "text/x-python",
   "name": "python",
   "nbconvert_exporter": "python",
   "pygments_lexer": "ipython3",
   "version": "3.11.7"
  }
 },
 "nbformat": 4,
 "nbformat_minor": 2
}
