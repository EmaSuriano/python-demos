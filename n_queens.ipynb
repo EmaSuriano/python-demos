{
 "cells": [
  {
   "cell_type": "markdown",
   "metadata": {},
   "source": [
    "# N queens\n",
    "\n",
    "The N Queen is the problem of placing N chess queens on an N×N chessboard so that no two queens attack each other. \n",
    "\n",
    "For example, the following is a solution for the 4 Queen problem.\n",
    "\n",
    "![Solution-Of-4-Queen-Problem.png](https://media.geeksforgeeks.org/wp-content/uploads/20230814111654/Solution-Of-4-Queen-Problem.png)\n",
    "\n",
    "The expected output is in the form of a matrix that has ‘Q‘s for the blocks where queens are placed and the empty spaces are represented by ‘.’ . For example, the following is the output matrix for the above 4-Queen solution."
   ]
  },
  {
   "cell_type": "code",
   "execution_count": 105,
   "metadata": {},
   "outputs": [
    {
     "name": "stdout",
     "output_type": "stream",
     "text": [
      "[0, 2, 4, 1, 9, 11, 13, 3, 12, 8, 5, 14, 6, 10, 7]\n"
     ]
    }
   ],
   "source": [
    "def are_visible(pos1: tuple[int, int], pos2: tuple[int, int]) -> bool:\n",
    "    \"\"\"Given two positions, it returns if the queens are visible to each other\"\"\"\n",
    "    x1, y1 = pos1\n",
    "    x2, y2 = pos2\n",
    "\n",
    "    return x1 == x2 or y1 == y2 or abs(x1 - x2) == abs(y1 - y2)\n",
    "\n",
    "\n",
    "def is_safe(board: list[list], pos: tuple[int, int]) -> bool:\n",
    "    \"\"\"Given a board configuration and a position, it returns if the position will fit in the board\"\"\"\n",
    "    for y, row in enumerate(board):\n",
    "        try:\n",
    "            queen_x = row.index(\"Q\")\n",
    "            if are_visible((queen_x, y), pos):\n",
    "                return False\n",
    "\n",
    "        except ValueError:\n",
    "            # no queen in the current row, break the loop.\n",
    "            break\n",
    "\n",
    "    return True\n",
    "\n",
    "\n",
    "def n_queens(amount: int, start_position=0) -> list:\n",
    "    \"\"\"Given an amount of queens should return the configuration of queens\n",
    "\n",
    "    Result is provided as list of the queens position: [1, 3, 0, 2]\n",
    "    The index in array represents the row and the value is the column\n",
    "    \"\"\"\n",
    "    # By default we place one queen in the first position, changing this will generate different solutions\n",
    "    board = [[0 for _ in range(amount)] for _ in range(amount)]\n",
    "\n",
    "    # validation of entry params\n",
    "    if amount < 1:\n",
    "        raise Exception(\"amount should be bigger than 1\")\n",
    "\n",
    "    if start_position > amount:\n",
    "        raise Exception(\"start_position cannot be bigger than board\")\n",
    "\n",
    "    # set start_position to generate other solutions\n",
    "    board[0][start_position] = \"Q\"\n",
    "\n",
    "    # column to be able to perform backtracking\n",
    "    curr_y = 1\n",
    "\n",
    "    # continue until the desired amount of columns have been reached\n",
    "    while curr_y < amount:\n",
    "        found_x = -1\n",
    "\n",
    "        for x in range(amount):\n",
    "            # already checked this position and it was not valid\n",
    "            if board[curr_y][x] == \"X\":\n",
    "                continue\n",
    "\n",
    "            if is_safe(board, (x, curr_y)):\n",
    "                found_x = x\n",
    "                break\n",
    "\n",
    "            board[curr_y][x] = \"X\"\n",
    "\n",
    "        if found_x > -1:\n",
    "            # mark the queen position and move to the next row\n",
    "            board[curr_y][x] = \"Q\"\n",
    "            curr_y += 1\n",
    "\n",
    "        else:\n",
    "            # it's not possible to fit any queen even in the first row ...\n",
    "            if curr_y == 0:\n",
    "                raise Exception(\n",
    "                    f\"There is no possible solution for the given board: {amount}x{amount}\"\n",
    "                )\n",
    "\n",
    "            # time to rollback, reset current row\n",
    "            board[curr_y] = [0 for _ in range(amount)]\n",
    "\n",
    "            # move back one line\n",
    "            curr_y -= 1\n",
    "\n",
    "            # mark previous queen as invalid\n",
    "            last_queen_x = board[curr_y].index(\"Q\")\n",
    "            board[curr_y][last_queen_x] = \"X\"\n",
    "\n",
    "    res = [row.index(\"Q\") for row in board]\n",
    "    return res\n",
    "\n",
    "\n",
    "result = n_queens(8)\n",
    "print(result)"
   ]
  },
  {
   "cell_type": "code",
   "execution_count": 106,
   "metadata": {},
   "outputs": [
    {
     "name": "stdout",
     "output_type": "stream",
     "text": [
      "| Q |   |   |   |   |   |   |   |   |   |   |   |   |   |   | \n",
      "|   |   | Q |   |   |   |   |   |   |   |   |   |   |   |   | \n",
      "|   |   |   |   | Q |   |   |   |   |   |   |   |   |   |   | \n",
      "|   | Q |   |   |   |   |   |   |   |   |   |   |   |   |   | \n",
      "|   |   |   |   |   |   |   |   |   | Q |   |   |   |   |   | \n",
      "|   |   |   |   |   |   |   |   |   |   |   | Q |   |   |   | \n",
      "|   |   |   |   |   |   |   |   |   |   |   |   |   | Q |   | \n",
      "|   |   |   | Q |   |   |   |   |   |   |   |   |   |   |   | \n",
      "|   |   |   |   |   |   |   |   |   |   |   |   | Q |   |   | \n",
      "|   |   |   |   |   |   |   |   | Q |   |   |   |   |   |   | \n",
      "|   |   |   |   |   | Q |   |   |   |   |   |   |   |   |   | \n",
      "|   |   |   |   |   |   |   |   |   |   |   |   |   |   | Q | \n",
      "|   |   |   |   |   |   | Q |   |   |   |   |   |   |   |   | \n",
      "|   |   |   |   |   |   |   |   |   |   | Q |   |   |   |   | \n",
      "|   |   |   |   |   |   |   | Q |   |   |   |   |   |   |   | \n"
     ]
    }
   ],
   "source": [
    "def print_board(queens: list):\n",
    "    \"\"\"Print the chessboard in order to visualize the result visually\n",
    "\n",
    "    Example: [0, 1, 2, 3] for queens located in (0,0), (1,1), (2,2), (3,3)\n",
    "    \"\"\"\n",
    "    board = []\n",
    "    for queen_pos in queens:\n",
    "        row = []\n",
    "        for col in range(len(queens)):\n",
    "            row.append(\"Q\" if col == queen_pos else \" \")\n",
    "        board.append(row)\n",
    "\n",
    "    for row in board:\n",
    "        print(\"| \" + \" | \".join(row) + \" | \")\n",
    "\n",
    "\n",
    "print_board(result)"
   ]
  },
  {
   "cell_type": "code",
   "execution_count": 107,
   "metadata": {},
   "outputs": [
    {
     "name": "stdout",
     "output_type": "stream",
     "text": [
      "Result is valid: True\n"
     ]
    }
   ],
   "source": [
    "def validate_result(queens: list):\n",
    "    \"\"\"Validate if a queens configuration is valid\"\"\"\n",
    "    board = [[0 for _ in range(len(queens))] for _ in range(len(queens))]\n",
    "\n",
    "    for y, x in enumerate(queens):\n",
    "        if not is_safe(board, (x, y)):\n",
    "            return False\n",
    "        \n",
    "        board[y][x] = \"Q\"\n",
    "\n",
    "    return True\n",
    "\n",
    "print('Result is valid:', validate_result(result))"
   ]
  }
 ],
 "metadata": {
  "kernelspec": {
   "display_name": "base",
   "language": "python",
   "name": "python3"
  },
  "language_info": {
   "codemirror_mode": {
    "name": "ipython",
    "version": 3
   },
   "file_extension": ".py",
   "mimetype": "text/x-python",
   "name": "python",
   "nbconvert_exporter": "python",
   "pygments_lexer": "ipython3",
   "version": "3.11.7"
  }
 },
 "nbformat": 4,
 "nbformat_minor": 2
}
