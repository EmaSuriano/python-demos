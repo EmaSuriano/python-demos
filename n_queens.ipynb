{
 "cells": [
  {
   "cell_type": "markdown",
   "metadata": {},
   "source": [
    "# N queens\n",
    "\n",
    "The N Queen is the problem of placing N chess queens on an N×N chessboard so that no two queens attack each other. \n",
    "\n",
    "For example, the following is a solution for the 4 Queen problem.\n",
    "\n",
    "![Solution-Of-4-Queen-Problem.png](https://media.geeksforgeeks.org/wp-content/uploads/20230814111654/Solution-Of-4-Queen-Problem.png)\n",
    "\n",
    "The expected output is in the form of a matrix that has ‘Q‘s for the blocks where queens are placed and the empty spaces are represented by ‘.’ . For example, the following is the output matrix for the above 4-Queen solution."
   ]
  },
  {
   "cell_type": "code",
   "execution_count": 126,
   "metadata": {},
   "outputs": [
    {
     "name": "stdout",
     "output_type": "stream",
     "text": [
      "placed! [[1, 0, 0, 0, 0], [0, 0, 1, 0, 0], [0, 0, 0, 0, 1], [0, 1, 0, 0, 0], [0, 0, 0, 1, 0]] 4\n",
      "placed! [[1, 0, 0, 0, 0], [0, 0, 1, 0, 0], [0, 0, 0, 0, 1], [0, 1, 0, 0, 0], [0, 0, 0, 1, 0]] 3\n",
      "placed! [[1, 0, 0, 0, 0], [0, 0, 1, 0, 0], [0, 0, 0, 0, 1], [0, 1, 0, 0, 0], [0, 0, 0, 1, 0]] 2\n",
      "placed! [[1, 0, 0, 0, 0], [0, 0, 1, 0, 0], [0, 0, 0, 0, 1], [0, 1, 0, 0, 0], [0, 0, 0, 1, 0]] 1\n",
      "placed! [[1, 0, 0, 0, 0], [0, 0, 1, 0, 0], [0, 0, 0, 0, 1], [0, 1, 0, 0, 0], [0, 0, 0, 1, 0]] 0\n",
      "[0, 2, 4, 1, 3]\n"
     ]
    }
   ],
   "source": [
    "def are_visible(pos1: tuple[int, int], pos2: tuple[int, int]) -> bool:\n",
    "    \"\"\"Given two positions, it returns if the queens are visible to each other\"\"\"\n",
    "    x1, y1 = pos1\n",
    "    x2, y2 = pos2\n",
    "\n",
    "    return x1 == x2 or y1 == y2 or abs(x1 - x2) == abs(y1 - y2)\n",
    "\n",
    "\n",
    "def is_safe(board: list[list], pos: tuple[int, int]) -> bool:\n",
    "    \"\"\"Given a board configuration and a position, it returns if the position will fit in the board\"\"\"\n",
    "    for y, row in enumerate(board):\n",
    "        try:\n",
    "            queen_x = row.index(1)\n",
    "            if are_visible((queen_x, y), pos):\n",
    "                return False\n",
    "\n",
    "        except ValueError:\n",
    "            # no queen in the current row, break the loop.\n",
    "            break\n",
    "\n",
    "    return True\n",
    "\n",
    "\n",
    "def place_queen(board: list[list], y: int) -> bool:\n",
    "    # We reached the end of the board, therefore all the queens are placed\n",
    "    if y >= len(board):\n",
    "        return True\n",
    "\n",
    "    for x in range(len(board)):\n",
    "        possible_queen = (x, y)\n",
    "        if is_safe(board, possible_queen):\n",
    "            # Place queen in board\n",
    "            board[y][x] = 1\n",
    "\n",
    "            # Move to the next row\n",
    "            if place_queen(board, y + 1):\n",
    "                return True\n",
    "\n",
    "            # rollback last queen placed\n",
    "            board[y][x] = 0\n",
    "\n",
    "    # if no queen can be placed in the row we go back\n",
    "    return False\n",
    "\n",
    "\n",
    "def n_queens(amount: int) -> list:\n",
    "    \"\"\"Given an amount of queens should return the configuration of queens\n",
    "\n",
    "    Result is provided as list of the queens position: [1, 3, 0, 2]\n",
    "    The index in array represents the row and the value is the column\n",
    "    \"\"\"\n",
    "    # validation of entry params\n",
    "    if amount < 1:\n",
    "        raise Exception(\"amount should be bigger than 1\")\n",
    "\n",
    "    # generate nxn board based on given amount\n",
    "    board = [[0 for _ in range(amount)] for _ in range(amount)]\n",
    "\n",
    "    if place_queen(board, 0) == False:\n",
    "        raise Exception(\n",
    "            f\"There is no possible solution for the given board: {amount}x{amount}\"\n",
    "        )\n",
    "\n",
    "    res = [row.index(1) for row in board]\n",
    "    return res\n",
    "\n",
    "\n",
    "result = n_queens(5)\n",
    "print(result)"
   ]
  },
  {
   "cell_type": "code",
   "execution_count": 127,
   "metadata": {},
   "outputs": [
    {
     "name": "stdout",
     "output_type": "stream",
     "text": [
      "| Q |   |   |   |   | \n",
      "|   |   | Q |   |   | \n",
      "|   |   |   |   | Q | \n",
      "|   | Q |   |   |   | \n",
      "|   |   |   | Q |   | \n"
     ]
    }
   ],
   "source": [
    "def print_board(queens: list):\n",
    "    \"\"\"Print the chessboard in order to visualize the result visually\n",
    "\n",
    "    Example: [0, 1, 2, 3] for queens located in (0,0), (1,1), (2,2), (3,3)\n",
    "    \"\"\"\n",
    "    board = []\n",
    "    for queen_pos in queens:\n",
    "        row = []\n",
    "        for col in range(len(queens)):\n",
    "            row.append(\"Q\" if col == queen_pos else \" \")\n",
    "        board.append(row)\n",
    "\n",
    "    for row in board:\n",
    "        print(\"| \" + \" | \".join(row) + \" | \")\n",
    "\n",
    "\n",
    "print_board(result)"
   ]
  },
  {
   "cell_type": "code",
   "execution_count": 128,
   "metadata": {},
   "outputs": [
    {
     "name": "stdout",
     "output_type": "stream",
     "text": [
      "Result is valid: True\n"
     ]
    }
   ],
   "source": [
    "def validate_result(queens: list):\n",
    "    \"\"\"Validate if a queens configuration is valid\"\"\"\n",
    "    board = [[0 for _ in range(len(queens))] for _ in range(len(queens))]\n",
    "\n",
    "    for y, x in enumerate(queens):\n",
    "        if not is_safe(board, (x, y)):\n",
    "            return False\n",
    "        \n",
    "        board[y][x] = \"Q\"\n",
    "\n",
    "    return True\n",
    "\n",
    "print('Result is valid:', validate_result(result))"
   ]
  }
 ],
 "metadata": {
  "kernelspec": {
   "display_name": "base",
   "language": "python",
   "name": "python3"
  },
  "language_info": {
   "codemirror_mode": {
    "name": "ipython",
    "version": 3
   },
   "file_extension": ".py",
   "mimetype": "text/x-python",
   "name": "python",
   "nbconvert_exporter": "python",
   "pygments_lexer": "ipython3",
   "version": "3.11.7"
  }
 },
 "nbformat": 4,
 "nbformat_minor": 2
}
