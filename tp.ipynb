{
 "cells": [
  {
   "cell_type": "markdown",
   "metadata": {},
   "source": [
    "# TP 3\n",
    "\n",
    "output: str\n",
    "\n",
    "1-9\n",
    "+-/*\n",
    "\n",
    "in: 15\n",
    "out: 3*5-8/4+2"
   ]
  },
  {
   "cell_type": "code",
   "execution_count": 189,
   "metadata": {},
   "outputs": [
    {
     "name": "stdout",
     "output_type": "stream",
     "text": [
      "MIN -69.0\n",
      "MAX 77.0\n",
      "3*9+7-2/1\n"
     ]
    }
   ],
   "source": [
    "numbers = set(range(2, 10))\n",
    "operations = [\"+\", \"-\", \"*\"]\n",
    "\n",
    "numbers_with_division = [1, 2, 3, 4]\n",
    "\n",
    "\n",
    "def get_tuple(value: list[int]) -> tuple[int, int]:\n",
    "    res = []\n",
    "\n",
    "    for i in value:\n",
    "        for j in value:\n",
    "            if i != j:\n",
    "                res.append((i, j))\n",
    "\n",
    "    return res\n",
    "\n",
    "\n",
    "def get_multiplier(value: int) -> int:\n",
    "    return max(2, int(value / 10))\n",
    "\n",
    "\n",
    "def get_str(value: int):\n",
    "    is_positive = value > 0\n",
    "    multiplier = get_multiplier(value)\n",
    "    ending_num = 1 if is_positive else 2\n",
    "\n",
    "    # Check if we can avoid the unnecessary loop\n",
    "    # j = int(value / 10)\n",
    "\n",
    "    left_numbers = numbers - set([multiplier, ending_num])\n",
    "    for i in left_numbers:\n",
    "        tuples = get_tuple(left_numbers - set([i]))\n",
    "\n",
    "        for num1, num2 in tuples:\n",
    "            result = (\n",
    "                f\"{multiplier}*{i}+{num1}-{num2}/{ending_num}\"\n",
    "                if is_positive\n",
    "                else f\"{num1}/{num2}-{multiplier}*{i}+{ending_num}\"\n",
    "            )\n",
    "\n",
    "            if eval(result) == value:\n",
    "                return result\n",
    "\n",
    "    return None\n",
    "\n",
    "\n",
    "in_value = 10\n",
    "out = \"2*1-9/1+2\"\n",
    "\n",
    "\n",
    "print(\"MIN\", eval(\"4/2-9*8+1\"))\n",
    "print(\"MAX\", eval(\"9*8/1+7-2\"))\n",
    "\n",
    "res = get_str(32)\n",
    "print(res)"
   ]
  },
  {
   "cell_type": "code",
   "execution_count": 190,
   "metadata": {},
   "outputs": [
    {
     "name": "stdout",
     "output_type": "stream",
     "text": [
      "not_possible 44 [0, 24, 25, 26, 27, 28, 29, 34, 35, 36, 37, 38, 39, 43, 44, 45, 46, 47, 48, 49, 52, 53, 54, 55, 56, 57, 58, 59, 61, 62, 63, 64, 65, 66, 67, 68, 69, 70, 71, 72, 73, 74, 75, 76]\n",
      "possible 33 [(1, '2*3+4-9/1'), (2, '2*3+4-8/1'), (3, '2*3+4-7/1'), (4, '2*3+4-6/1'), (5, '2*3+4-5/1'), (6, '2*4+3-5/1'), (7, '2*3+5-4/1'), (8, '2*3+6-4/1'), (9, '2*3+7-4/1'), (10, '2*3+8-4/1'), (11, '2*3+9-4/1'), (12, '2*4+7-3/1'), (13, '2*4+8-3/1'), (14, '2*4+9-3/1'), (15, '2*5+8-3/1'), (16, '2*5+9-3/1'), (17, '2*6+8-3/1'), (18, '2*6+9-3/1'), (19, '2*7+8-3/1'), (20, '2*7+9-3/1'), (21, '2*8+9-4/1'), (22, '2*8+9-3/1'), (23, '2*9+8-3/1'), (30, '3*9+5-2/1'), (31, '3*8+9-2/1'), (32, '3*9+7-2/1'), (33, '3*9+8-2/1'), (40, '4*9+6-2/1'), (41, '4*9+7-2/1'), (42, '4*9+8-2/1'), (50, '5*9+7-2/1'), (51, '5*9+8-2/1'), (60, '6*9+8-2/1')]\n"
     ]
    }
   ],
   "source": [
    "asd = list(range(0, 77))\n",
    "\n",
    "results = [(x, get_str(x)) for x in asd]\n",
    "\n",
    "# Best so far:\n",
    "# - 36 not possible\n",
    "# - 64 possible\n",
    "\n",
    "not_possible = [x for x,y in results if y == None]\n",
    "print('not_possible', len(not_possible), not_possible)\n",
    "\n",
    "possible = [(x,y) for x,y in results if y != None]\n",
    "print('possible', len(possible), possible)"
   ]
  },
  {
   "cell_type": "code",
   "execution_count": 296,
   "metadata": {},
   "outputs": [
    {
     "name": "stdout",
     "output_type": "stream",
     "text": [
      "2-6/3+8*9\n"
     ]
    }
   ],
   "source": [
    "from itertools import permutations\n",
    "\n",
    "numbers = list(range(1, 10))\n",
    "operations = [\"+\", \"-\", \"*\", \"/\"]\n",
    "invalid_operations = [\"/5\", \"/6\", \"/7\", \"/8\", \"/9\"]\n",
    "\n",
    "operations_permutations = list(permutations(operations))\n",
    "numbers_permutations = list(permutations(numbers, 5))\n",
    "\n",
    "def is_invalid_exp(exp: str) -> bool: \n",
    "    return any(op in exp for op in invalid_operations)\n",
    "\n",
    "def get_str_brute_force(value: int):\n",
    "    for n1, n2, n3, n4, n5 in numbers_permutations:\n",
    "        for op1, op2, op3, op4 in operations_permutations:\n",
    "            res = f\"{n1}{op1}{n2}{op2}{n3}{op3}{n4}{op4}{n5}\"\n",
    "\n",
    "            if is_invalid_exp(res):\n",
    "                continue\n",
    "\n",
    "            if eval(res) == value:\n",
    "                return res\n",
    "\n",
    "    return None\n",
    "\n",
    "res = get_str_brute_force(72)\n",
    "print(res)"
   ]
  },
  {
   "cell_type": "code",
   "execution_count": 270,
   "metadata": {},
   "outputs": [
    {
     "name": "stdout",
     "output_type": "stream",
     "text": [
      "not_possible 0 []\n",
      "possible 146 [(-69, '6/3-9*8+1'), (-68, '1+6/2-8*9'), (-67, '4/2-9*8+3'), (-66, '2/1+4-8*9'), (-65, '6/3-9*8+5'), (-64, '2/1+6-8*9'), (-63, '7-9*8+6/3'), (-62, '3/1+7-8*9'), (-61, '7-9*8+4/1'), (-60, '1+4/2-7*9'), (-59, '8/4-9*7+2'), (-58, '1-7*9+8/2'), (-57, '6/3-9*7+4'), (-56, '2/1+5-7*9'), (-55, '8/4-9*7+6'), (-54, '3/1+6-7*9'), (-53, '8-9*7+6/3'), (-52, '1+6/2-7*8'), (-51, '9/3-8*7+2'), (-50, '2/1+4-7*8'), (-49, '9/3-8*7+4'), (-48, '2/1+4-6*9'), (-47, '9/3-8*7+6'), (-46, '3/1+5-6*9'), (-45, '9-8*7+6/3'), (-44, '1-6*8+9/3'), (-43, '9-8*7+4/1'), (-42, '1+4/2-5*9'), (-41, '9-8*7+6/1'), (-40, '9/3-8*6+5'), (-39, '8-9*6+7/1'), (-38, '9/3-8*6+7'), (-37, '9-8*6+4/2'), (-36, '9-8*6+3/1'), (-35, '9-8*6+4/1'), (-34, '9-8*6+5/1'), (-33, '9/3-8*5+4'), (-32, '9-8*6+7/1'), (-31, '9+8/4-7*6'), (-30, '9-7*6+3/1'), (-29, '9-8*5+6/3'), (-28, '9-8*5+6/2'), (-27, '9-8*5+4/1'), (-26, '9/3-7*5+6'), (-25, '9+8-7*6/1'), (-24, '9-8*5+7/1'), (-23, '9-7*5+6/2'), (-22, '9+8/2-7*5'), (-21, '9-8*4+6/3'), (-20, '9-8*4+6/2'), (-19, '9+8/4-6*5'), (-18, '9+8-7*5/1'), (-17, '9-8*4+6/1'), (-16, '9-8*7/2+3'), (-15, '9-8*7/2+4'), (-14, '9-8*7/2+5'), (-13, '9-8*7/2+6'), (-12, '9-8*6/2+3'), (-11, '9+8-7*4/1'), (-10, '9-8*6/2+5'), (-9, '9-8*3+6/1'), (-8, '9-8*6/2+7'), (-7, '9+8-6*4/1'), (-6, '9-8*6/3+1'), (-5, '9-8*6/3+2'), (-4, '9+8-7*6/2'), (-3, '9-8*7/4+2'), (-2, '9-8*7/4+3'), (-1, '9-8*6/4+2'), (0, '9-8*7/4+5'), (1, '9-8*7/4+6'), (2, '9+8-6*5/2'), (3, '9+8-7*6/3'), (4, '9-8*6/4+7'), (5, '9+8-6*4/2'), (6, '9-8*5/4+7'), (7, '9+8-6*5/3'), (8, '9+8-6*3/2'), (9, '9+8-6*4/3'), (10, '9-8+6*3/2'), (11, '9-8+6*5/3'), (12, '9+8*5/4-7'), (13, '9-8+6*4/2'), (14, '9+8*6/4-7'), (15, '9-8+7*6/3'), (16, '9-8+6*5/2'), (17, '9+8*7/4-6'), (18, '9+8*7/4-5'), (19, '9+8*6/4-2'), (20, '9+8*7/4-3'), (21, '9+8*7/4-2'), (22, '9-8+7*6/2'), (23, '9+8*6/3-2'), (24, '9+8*6/3-1'), (25, '9-8+6*4/1'), (26, '9+8*6/2-7'), (27, '9*8/3+7-4'), (28, '9+8*6/2-5'), (29, '9-8+7*4/1'), (30, '9+8*6/2-3'), (31, '9+8*7/2-6'), (32, '9+8*7/2-5'), (33, '9+8*7/2-4'), (34, '9+8*7/2-3'), (35, '9+8*4-6/1'), (36, '9-8+7*5/1'), (37, '9-8/4+6*5'), (38, '9+8*4-6/2'), (39, '9+8*4-6/3'), (40, '9-8/2+7*5'), (41, '1-4/2+6*7'), (42, '9+8*5-7/1'), (43, '1+5*9-6/2'), (44, '9*5-8+7/1'), (45, '2/1-5+6*8'), (46, '9+8*5-6/2'), (47, '1-4/2+6*8'), (48, '9+7*6-3/1'), (49, '2/1+6*9-7'), (50, '9+8*6-7/1'), (51, '1+6*9-8/2'), (52, '9+8*6-5/1'), (53, '1-4/2+6*9'), (54, '9+8*6-3/1'), (55, '1-4/2+7*8'), (56, '9*6+7-5/1'), (57, '2/1+7*9-8'), (58, '9*7-8+6/2'), (59, '2/1-6+7*9'), (60, '9+8*7-5/1'), (61, '1-6/2+7*9'), (62, '9+8*7-6/2'), (63, '2-6/3+7*9'), (64, '9*7-8/4+3'), (65, '4/1-2+7*9'), (66, '9*7+8-5/1'), (67, '2/1-7+8*9'), (68, '9*8-7+6/2'), (69, '2/1-5+8*9'), (70, '9*8-7+5/1'), (71, '1-4/2+8*9'), (72, '9*8+6/3-2'), (73, '3/1-2+8*9'), (74, '9*8+7-5/1'), (75, '5/1-2+8*9'), (76, '9*8+7-6/2')]\n"
     ]
    }
   ],
   "source": [
    "test_set = list(range(-69, 77))\n",
    "\n",
    "results = [(x, get_str_brute_force(x)) for x in test_set]\n",
    "\n",
    "not_possible = [x for x,y in results if y == None]\n",
    "print('not_possible', len(not_possible), not_possible)\n",
    "\n",
    "possible = [(x,y) for x,y in results if y != None]\n",
    "print('possible', len(possible), possible)"
   ]
  },
  {
   "cell_type": "code",
   "execution_count": 300,
   "metadata": {},
   "outputs": [
    {
     "name": "stderr",
     "output_type": "stream",
     "text": [
      "/opt/homebrew/anaconda3/lib/python3.11/site-packages/seaborn/_oldcore.py:1119: FutureWarning: use_inf_as_na option is deprecated and will be removed in a future version. Convert inf values to NaN before operating instead.\n",
      "  with pd.option_context('mode.use_inf_as_na', True):\n",
      "/opt/homebrew/anaconda3/lib/python3.11/site-packages/seaborn/_oldcore.py:1119: FutureWarning: use_inf_as_na option is deprecated and will be removed in a future version. Convert inf values to NaN before operating instead.\n",
      "  with pd.option_context('mode.use_inf_as_na', True):\n"
     ]
    },
    {
     "data": {
      "image/png": "[encoded data removed]",
      "text/plain": [
       "<Figure size 640x480 with 1 Axes>"
      ]
     },
     "metadata": {},
     "output_type": "display_data"
    }
   ],
   "source": [
    "import seaborn as sns\n",
    "import matplotlib.pyplot as plt\n",
    "import timeit\n",
    "import numpy as np\n",
    "\n",
    "execution_time = []\n",
    "input_sizes = list(range(-80, 80))\n",
    "\n",
    "for n in input_sizes:\n",
    "    execution_time.append(timeit.timeit(lambda: get_str_brute_force(n), number=1))\n",
    "\n",
    "sns.lineplot(x=input_sizes, y=execution_time)\n",
    "\n",
    "plt.xlabel(\"n\")\n",
    "plt.ylabel(\"Time (s)\")\n",
    "plt.title(\"Time to n number\")\n",
    "\n",
    "plt.show()"
   ]
  },
  {
   "cell_type": "code",
   "execution_count": 243,
   "metadata": {},
   "outputs": [
    {
     "name": "stdout",
     "output_type": "stream",
     "text": [
      "1+5*7-8/2\n"
     ]
    }
   ],
   "source": [
    "from itertools import permutations\n",
    "import numpy as np\n",
    "\n",
    "numbers = np.array(range(1, 10))\n",
    "operations = np.array([\"+\", \"-\", \"*\", \"/\"])\n",
    "operations_permutations = np.array(list(permutations(operations)))\n",
    "# numbers_permutations = np.array(list(permutations(numbers, 5)))\n",
    "\n",
    "\n",
    "def get_str_brute_force_np(value: int):\n",
    "    selected = []\n",
    "\n",
    "    for n1 in numbers:\n",
    "        selected.append(n1)\n",
    "        for n2 in numbers[~np.isin(numbers, selected)]:\n",
    "          selected.append(n2)\n",
    "          for n3 in numbers[~np.isin(numbers, selected)]:\n",
    "            selected.append(n3)\n",
    "            for n4 in numbers[~np.isin(numbers, selected)]:\n",
    "              selected.append(n4)\n",
    "              for n5 in numbers[~np.isin(numbers, selected)]:\n",
    "                for op1, op2, op3, op4 in operations_permutations:\n",
    "                  result = (\n",
    "                    f\"{n1}{op1}{n2}{op2}{n3}{op3}{n4}{op4}{n5}\"\n",
    "                  )\n",
    "\n",
    "                  if eval(result) == value:\n",
    "                    return result\n",
    "\n",
    "              selected.remove(n4)\n",
    "            selected.remove(n3)\n",
    "          selected.remove(n2)\n",
    "        selected.remove(n1)\n",
    "\n",
    "    # for n1, n2, n3, n4, n5 in numbers_permutations:\n",
    "    #     for op1, op2, op3, op4 in operations_permutations:\n",
    "    #         result = f\"{n1}{op1}{n2}{op2}{n3}{op3}{n4}{op4}{n5}\"\n",
    "    #         if eval(result) == value:\n",
    "    #             return result\n",
    "\n",
    "    return None\n",
    "\n",
    "\n",
    "res = get_str_brute_force_np(32)\n",
    "print(res)"
   ]
  },
  {
   "cell_type": "code",
   "execution_count": 245,
   "metadata": {},
   "outputs": [
    {
     "name": "stdout",
     "output_type": "stream",
     "text": [
      "not_possible 0 []\n",
      "possible 146 [(-69, '1+4/2-8*9'), (-68, '1+6/2-8*9'), (-67, '2/1+3-8*9'), (-66, '2/1+4-8*9'), (-65, '2/1+5-8*9'), (-64, '2/1+6-8*9'), (-63, '2/1+7-8*9'), (-62, '3/1+7-8*9'), (-61, '4/1+7-8*9'), (-60, '1+4/2-7*9'), (-59, '1+6/2-7*9'), (-58, '1-7*9+8/2'), (-57, '2/1+4-7*9'), (-56, '2/1+5-7*9'), (-55, '2/1+6-7*9'), (-54, '3/1+6-7*9'), (-53, '1+4/2-7*8'), (-52, '1+6/2-7*8'), (-51, '1+4/2-6*9'), (-50, '2/1+4-7*8'), (-49, '1-6*9+8/2'), (-48, '2/1+4-6*9'), (-47, '2/1+5-6*9'), (-46, '3/1+5-6*9'), (-45, '1+4/2-6*8'), (-44, '1-6*8+9/3'), (-43, '2/1+3-6*8'), (-42, '1+4/2-5*9'), (-41, '1-5*9+6/2'), (-40, '1-5*9+8/2'), (-39, '1+4/2-6*7'), (-38, '1-6*7+9/3'), (-37, '1+4/2-5*8'), (-36, '1-5*8+6/2'), (-35, '2/1+3-5*8'), (-34, '2/1+4-5*8'), (-33, '1-4*9+6/3'), (-32, '1+3-8/2*9'), (-31, '1+4-8/2*9'), (-30, '1-5*7+8/2'), (-29, '1-4*8+6/3'), (-28, '1-4*8+6/2'), (-27, '1+4/2-5*6'), (-26, '1-5*6+9/3'), (-25, '1-4*7+6/3'), (-24, '1+3-7/2*8'), (-23, '1+3-6/2*9'), (-22, '1-3*9+8/2'), (-21, '1+2-8/3*9'), (-20, '1+3-6/2*8'), (-19, '1+4-6/2*8'), (-18, '1+2-7/3*9'), (-17, '1+3-6/2*7'), (-16, '1+3-5/2*8'), (-15, '1+2-6/3*9'), (-14, '1+3-4/2*9'), (-13, '1+2-6/3*8'), (-12, '1+2-5/3*9'), (-11, '1+2-6/3*7'), (-10, '1-2*7+9/3'), (-9, '1+2-4/3*9'), (-8, '1-2*6+9/3'), (-7, '1+2*3/6-9'), (-6, '1+2*3/6-8'), (-5, '1+2*3/6-7'), (-4, '1+2/3*6-9'), (-3, '1+2-3/4*8'), (-2, '1+2*3/6-4'), (-1, '1+2-3/6*8'), (0, '1+2/3*6-5'), (1, '1+2-3*4/6'), (2, '1-2/3*6+5'), (3, '1-2+3/6*8'), (4, '1-2*3/6+4'), (5, '1-2+3/4*8'), (6, '1-2/3*6+9'), (7, '1-2*3/6+7'), (8, '1-2*3/6+8'), (9, '1-2*3/6+9'), (10, '1+2*6-9/3'), (11, '1-2+4/3*9'), (12, '1+2*7-9/3'), (13, '1-2+6/3*7'), (14, '1-2+5/3*9'), (15, '1-2+6/3*8'), (16, '1-3+4/2*9'), (17, '1-2+6/3*9'), (18, '1-3+5/2*8'), (19, '1-3+6/2*7'), (20, '1-2+7/3*9'), (21, '1-4+6/2*8'), (22, '1-3+6/2*8'), (23, '1-2+8/3*9'), (24, '1+3*9-8/2'), (25, '1-3+6/2*9'), (26, '1-3+7/2*8'), (27, '1+4*7-6/3'), (28, '1+5*6-9/3'), (29, '1-4/2+5*6'), (30, '1+4*8-6/2'), (31, '1+4*8-6/3'), (32, '1+5*7-8/2'), (33, '1-4+8/2*9'), (34, '1-3+8/2*9'), (35, '1+4*9-6/3'), (36, '2/1+5*8-6'), (37, '3/1-2+4*9'), (38, '1+5*8-6/2'), (39, '1-4/2+5*8'), (40, '1+6*7-9/3'), (41, '1-4/2+6*7'), (42, '1+5*9-8/2'), (43, '1+5*9-6/2'), (44, '1-4/2+5*9'), (45, '2/1-5+6*8'), (46, '1+6*8-9/3'), (47, '1-4/2+6*8'), (48, '2/1+6*9-8'), (49, '2/1+6*9-7'), (50, '3/1+6*9-7'), (51, '1+6*9-8/2'), (52, '2/1-4+6*9'), (53, '1-4/2+6*9'), (54, '1-6/2+7*8'), (55, '1-4/2+7*8'), (56, '2-6/3+7*8'), (57, '2/1+7*9-8'), (58, '3/1+7*9-8'), (59, '2/1-6+7*9'), (60, '1+7*9-8/2'), (61, '1-6/2+7*9'), (62, '1-4/2+7*9'), (63, '2-6/3+7*9'), (64, '3/1-2+7*9'), (65, '4/1-2+7*9'), (66, '5/1-2+7*9'), (67, '2/1-7+8*9'), (68, '2/1-6+8*9'), (69, '2/1-5+8*9'), (70, '1-6/2+8*9'), (71, '1-4/2+8*9'), (72, '2-6/3+8*9'), (73, '3/1-2+8*9'), (74, '4/1-2+8*9'), (75, '5/1-2+8*9'), (76, '6/1-2+8*9')]\n"
     ]
    }
   ],
   "source": [
    "test_set = list(range(-69, 77))\n",
    "\n",
    "results = [(x, get_str_brute_force_np(x)) for x in test_set]\n",
    "\n",
    "not_possible = [x for x,y in results if y == None]\n",
    "print('not_possible', len(not_possible), not_possible)\n",
    "\n",
    "possible = [(x,y) for x,y in results if y != None]\n",
    "print('possible', len(possible), possible)"
   ]
  },
  {
   "cell_type": "code",
   "execution_count": null,
   "metadata": {},
   "outputs": [],
   "source": []
  }
 ],
 "metadata": {
  "kernelspec": {
   "display_name": "base",
   "language": "python",
   "name": "python3"
  },
  "language_info": {
   "codemirror_mode": {
    "name": "ipython",
    "version": 3
   },
   "file_extension": ".py",
   "mimetype": "text/x-python",
   "name": "python",
   "nbconvert_exporter": "python",
   "pygments_lexer": "ipython3",
   "version": "3.11.7"
  }
 },
 "nbformat": 4,
 "nbformat_minor": 2
}
