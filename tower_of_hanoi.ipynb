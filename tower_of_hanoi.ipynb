{
 "cells": [
  {
   "cell_type": "markdown",
   "metadata": {},
   "source": [
    "# Tower of Hanoi\n",
    "\n",
    "Tower of Hanoi is a mathematical puzzle where we have three rods and n disks. The objective of the puzzle is to move the entire stack to another rod, obeying the following simple rules:\n",
    "1) Only one disk can be moved at a time. \n",
    "2) Each move consists of taking the upper disk from one of the stacks and placing it on top of another stack i.e. a disk can only be moved if it is the uppermost disk on a stack. \n",
    "3) No disk may be placed on top of a smaller disk.\n",
    "\n",
    "Note: Transferring the top n-1 disks from source rod to Auxiliary rod can again be thought of as a fresh problem and can be solved in the same manner.\n",
    "\n",
    "![Preview](https://media.geeksforgeeks.org/wp-content/uploads/tower-of-hanoi.png)"
   ]
  },
  {
   "cell_type": "code",
   "execution_count": 18,
   "metadata": {},
   "outputs": [
    {
     "name": "stdout",
     "output_type": "stream",
     "text": [
      "Move disk 1 from 0 to 2\n",
      "Move disk 2 from 0 to 1\n",
      "Move disk 1 from 2 to 1\n",
      "Move disk 3 from 0 to 2\n",
      "Move disk 1 from 1 to 0\n",
      "Move disk 2 from 1 to 2\n",
      "Move disk 1 from 0 to 2\n"
     ]
    }
   ],
   "source": [
    "def tower_of_hanoi(disc_number, from_pos, to_pos, aux_pos):\n",
    "    if from_pos == to_pos or from_pos == aux_pos:\n",
    "        raise Exception(\"Positions should be different\")\n",
    "\n",
    "    if disc_number == 1:\n",
    "        print(\"Move disk 1 from\", from_pos, \"to\", to_pos)\n",
    "        return\n",
    "\n",
    "    tower_of_hanoi(disc_number - 1, from_pos, aux_pos, to_pos)\n",
    "    print(\"Move disk\", disc_number, \"from\", from_pos, \"to\", to_pos)\n",
    "    tower_of_hanoi(disc_number - 1, aux_pos, to_pos, from_pos)\n",
    "\n",
    "\n",
    "# Driver code\n",
    "disc_number = 3\n",
    "tower_of_hanoi(disc_number, from_pos=0, to_pos=2, aux_pos=1)"
   ]
  }
 ],
 "metadata": {
  "kernelspec": {
   "display_name": "base",
   "language": "python",
   "name": "python3"
  },
  "language_info": {
   "codemirror_mode": {
    "name": "ipython",
    "version": 3
   },
   "file_extension": ".py",
   "mimetype": "text/x-python",
   "name": "python",
   "nbconvert_exporter": "python",
   "pygments_lexer": "ipython3",
   "version": "3.11.7"
  }
 },
 "nbformat": 4,
 "nbformat_minor": 2
}
