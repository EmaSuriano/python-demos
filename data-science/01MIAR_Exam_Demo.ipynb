{
 "cells": [
  {
   "cell_type": "markdown",
   "id": "cffbcd0e-dc00-4547-ac87-ef95eb5bbb51",
   "metadata": {},
   "source": [
    "# Examen Demo\n"
   ]
  },
  {
   "cell_type": "code",
   "execution_count": null,
   "id": "8ef7d433-2f37-43b7-95ad-5c65b99f39b9",
   "metadata": {},
   "outputs": [],
   "source": [
    "import pandas as pd\n",
    "import numpy as np\n",
    "\n",
    "import matplotlib as plt\n",
    "import seaborn as sns"
   ]
  },
  {
   "cell_type": "markdown",
   "id": "0ddfb619-f1e8-4d7f-9bb5-b08686efabf2",
   "metadata": {
    "tags": []
   },
   "source": [
    "## 01\n",
    "\n",
    "- La serie de Fibonacci es una sucesión de números, en la cual cada número es la suma de los dos anteriores. Los dos primeros son siempre 0 y 1.\n",
    "  - $F_0 = 0$\n",
    "  - $F_1 = 1$\n",
    "  - $F_n = F_{n-1} + F_{n-2}$\n",
    "- Crear una serie de Fibonacci hasta un número _n_ usando una función lambda.\n"
   ]
  },
  {
   "cell_type": "code",
   "execution_count": null,
   "id": "9f6f8961-e7d9-413e-91f5-ff8e9a35279a",
   "metadata": {},
   "outputs": [],
   "source": [
    "expected_fibo_serie = [\n",
    "    0,\n",
    "    1,\n",
    "    1,\n",
    "    2,\n",
    "    3,\n",
    "    5,\n",
    "    8,\n",
    "    13,\n",
    "    21,\n",
    "    34,\n",
    "    55,\n",
    "    89,\n",
    "    144,\n",
    "    233,\n",
    "    377,\n",
    "    610,\n",
    "    987,\n",
    "    1597,\n",
    "]\n",
    "fibo_serie = fibonacci_lambda(\n",
    "    len(expected_fibo_serie)\n",
    ")  # This calls your lambda function fibonacci_lambda\n",
    "print(fibo_serie)\n",
    "assert expected_fibo_serie == fibo_serie  # This will fail if the serie is not correct"
   ]
  },
  {
   "cell_type": "code",
   "execution_count": null,
   "id": "7f9d090c-d087-4694-8249-3e89f5e866cb",
   "metadata": {},
   "outputs": [],
   "source": [
    "from functools import reduce\n",
    "\n",
    "start_fibo = [0, 1]\n",
    "\n",
    "fibonacci_lambda = lambda n: (\n",
    "    list(range(n))\n",
    "    if n < 2\n",
    "    else reduce(\n",
    "        lambda acc, curr: [*acc, acc[curr] + acc[curr - 1]],\n",
    "        range(1, n - 1),\n",
    "        start_fibo,\n",
    "    )\n",
    ")\n",
    "\n",
    "fibonacci_lambda(15)"
   ]
  },
  {
   "cell_type": "markdown",
   "id": "3168850c-f9bb-4060-b6e3-06813ec86e54",
   "metadata": {},
   "source": [
    "## 02\n",
    "\n",
    "- Crear una función que reciba un array de NumPy y devuelva otro en el cual estén marcados como True los elementos duplicados (a partir de la segunda ocurrencia), y como False los no repetidos o las primeras ocurrencias de los duplicados.\n"
   ]
  },
  {
   "cell_type": "code",
   "execution_count": null,
   "id": "bcc96612-dff4-4779-b4df-2595aa235309",
   "metadata": {},
   "outputs": [],
   "source": [
    "numbers = np.array([4, 4, 4, 3, 8, 1, 9, 6, 1, 5, 9, 4, 0, 2])\n",
    "expected_output = np.array(\n",
    "    [\n",
    "        False,\n",
    "        True,\n",
    "        True,\n",
    "        False,\n",
    "        False,\n",
    "        False,\n",
    "        False,\n",
    "        False,\n",
    "        True,\n",
    "        False,\n",
    "        True,\n",
    "        True,\n",
    "        False,\n",
    "        False,\n",
    "    ]\n",
    ")\n",
    "output = find_duplicates(numbers)  # This calls your function find_duplicates\n",
    "print(output)\n",
    "assert np.array_equal(\n",
    "    expected_output, output\n",
    ")  # This will fail if the result is not as expected"
   ]
  },
  {
   "cell_type": "code",
   "execution_count": null,
   "id": "76618e23-4928-4040-9f7f-f4b08ff4abb2",
   "metadata": {},
   "outputs": [],
   "source": [
    "def find_duplicates(n):\n",
    "    count_n = {x: False for x in np.unique(n)}\n",
    "\n",
    "    n_copy = n.copy()\n",
    "\n",
    "    for i, val in enumerate(n_copy):\n",
    "        n_copy[i] = count_n[val]\n",
    "        count_n[val] = True\n",
    "\n",
    "    return n_copy"
   ]
  },
  {
   "cell_type": "markdown",
   "id": "93e1a9cd-ee85-48b0-b5e5-3d37aeeddb6e",
   "metadata": {
    "tags": []
   },
   "source": [
    "## 03\n",
    "\n",
    "- Resolución de dos sistemas de ecuaciones\n",
    "\n",
    "  - $ A : \\begin{cases} -9x + 4y = 20 \\\\ -7y + 16x = 80 \\end{cases}$\n",
    "\n",
    "  - $ B : \\begin{cases} x - 2y + 3z = 7 \\\\ 2x + y + z = 4 \\\\ -3x + 2y -2z = -10 \\end{cases}$\n",
    "\n",
    "- Verifica por código los resultados\n"
   ]
  },
  {
   "cell_type": "code",
   "execution_count": null,
   "id": "bbcc2811-859f-4023-bdbd-298750502ead",
   "metadata": {},
   "outputs": [],
   "source": [
    "import numpy as np\n",
    "\n",
    "A = np.linalg.solve(np.array([[-9, 4], [16, -7]]), np.array([20, 80]))\n",
    "print(\"x:\", A[0], \"-\", \"y:\", A[1])\n",
    "\n",
    "B = np.linalg.solve(\n",
    "    np.array([[1, -2, 3], [2, 1, 1], [-3, 2, -2]]), np.array([7, 4, -10])\n",
    ")\n",
    "print(\"x:\", B[0], \"-\", \"y:\", B[1], \"-\", \"y:\", B[2])"
   ]
  },
  {
   "cell_type": "markdown",
   "id": "655fe747-7f14-42dd-8a9a-6b532517bede",
   "metadata": {
    "tags": []
   },
   "source": [
    "## 04\n",
    "\n",
    "- Crear un objeto Series con 10 elementos, que contenga más de un tipo básico, con índices de tipo string\n",
    "- Demuestra que los datos con índices posicionales son los mismos que los obtenidos con índices semánticos, seleccionando a través de slicing, al menos 4 elementos de la serie anterior\n"
   ]
  },
  {
   "cell_type": "code",
   "execution_count": null,
   "id": "ce7f3e5d-781e-49f5-9ab8-f8e6593ab327",
   "metadata": {},
   "outputs": [],
   "source": [
    "serie = pd.Series(range(10), index=[\"a\", \"b\", \"c\", \"d\", \"e\", \"f\", \"g\", \"h\", \"i\", \"k\"])\n",
    "assert serie.iloc[0:4].equals(serie.loc[\"a\":\"d\"])"
   ]
  },
  {
   "cell_type": "markdown",
   "id": "3f12a152-8257-491a-9b2f-270607831cc0",
   "metadata": {
    "tags": []
   },
   "source": [
    "## 05\n",
    "\n",
    "- Crear un DataFrame de dimensiones 10x10, con números aleatorios en el rango `[0,20]`\n",
    "- Reemplazar todos aquellos elementos menores de 5 por NaN\n",
    "- Averiguar cuantos elementos tienen Nan por fila\n"
   ]
  },
  {
   "cell_type": "code",
   "execution_count": null,
   "id": "e6c62f70-14cb-446c-86eb-5428f36f627f",
   "metadata": {},
   "outputs": [],
   "source": [
    "from numpy import NaN\n",
    "\n",
    "\n",
    "matrix_random_int = np.random.randint(0, 20, size=(10, 10))\n",
    "\n",
    "df = pd.DataFrame(matrix_random_int)\n",
    "\n",
    "mask = df < 5\n",
    "df[mask] = NaN\n",
    "\n",
    "\n",
    "print(\"Cantidad de valores NaN:\", df.isna().sum().sum())"
   ]
  },
  {
   "cell_type": "markdown",
   "id": "8ba8d87a-190e-48ab-9235-04d875ef994e",
   "metadata": {
    "tags": []
   },
   "source": [
    "## 06\n",
    "\n",
    "- Dada una lista de elementos, crea una función que devuelva un dataframe sin los elementos duplicados\n"
   ]
  },
  {
   "cell_type": "code",
   "execution_count": null,
   "id": "18d7bb34-b613-497e-b59b-aca2ec09863d",
   "metadata": {},
   "outputs": [],
   "source": [
    "serie = [\"a\", \"b\", \"c\", \"a\", \"c\", \"a\", \"g\"]\n",
    "expected_output = pd.DataFrame([\"a\", \"b\", \"c\", \"g\"])\n",
    "output = remove_duplicates(serie)  # This will call tour function remove_duplicates\n",
    "assert expected_output.equals(output)  # This will fail if the result is not as expected"
   ]
  },
  {
   "cell_type": "code",
   "execution_count": null,
   "id": "ee636cf0-9bff-497e-b4d9-ab42ac4b166a",
   "metadata": {},
   "outputs": [],
   "source": [
    "def remove_duplicates(arr):\n",
    "    arr_unique = pd.unique(pd.Series(arr))\n",
    "    return pd.DataFrame(arr_unique)"
   ]
  },
  {
   "cell_type": "markdown",
   "id": "211cff7b-d71d-4db8-bd16-71f09ca57399",
   "metadata": {},
   "source": [
    "## 07 - 1pt\n",
    "\n",
    "- Escribir un generador `frange` que simule el comportamiento de la función `arange` de NumPy\n",
    "- Esta función cada vez que se invoque debe devolver valores espaciados uniformemente a partir de un valor inicial. Se debe proveer a dicha función un valor inicial para la secuencia de números y un valor para el step\n",
    "- Debe soportar valores númericos en coma flotante\n",
    "- La función potencialmente se puede llamar un número infinito de veces\n",
    "- Usando plain Python, sin ninguna librería\n"
   ]
  },
  {
   "cell_type": "code",
   "execution_count": null,
   "id": "19be50b6-7a52-4dd1-a081-2e483cb3bbf8",
   "metadata": {},
   "outputs": [],
   "source": [
    "import math\n",
    "\n",
    "init = 10.6\n",
    "step = 0.8\n",
    "g = frange(init, step)  # This calls your function frange\n",
    "\n",
    "iters = 10\n",
    "numbers = [next(g) for n in range(iters)]\n",
    "for i, n in enumerate(numbers):\n",
    "    assert math.isclose(\n",
    "        n, init + (step * i)\n",
    "    )  # This will fail if the range is not properly created\\\n",
    "print(numbers)"
   ]
  },
  {
   "cell_type": "code",
   "execution_count": null,
   "id": "9d395c62-a894-48ce-990b-cf60d34ec065",
   "metadata": {},
   "outputs": [],
   "source": [
    "def frange(init, step):\n",
    "    curr = init\n",
    "\n",
    "    while True:\n",
    "        yield curr\n",
    "        curr += step"
   ]
  },
  {
   "cell_type": "markdown",
   "id": "ae093f1d-b4e5-4ac3-a0a8-c6aecb8a084d",
   "metadata": {
    "tags": []
   },
   "source": [
    "## 08\n",
    "\n",
    "- Crear una función que reciba una Serie de Pandas y devuelva esa misma serie, reemplazando los espacios en blanco por el carácter menos frecuente en dicha serie.\n"
   ]
  },
  {
   "cell_type": "code",
   "execution_count": null,
   "id": "02390a36-6e74-4e34-b46a-e1612771863e",
   "metadata": {},
   "outputs": [],
   "source": [
    "serie = pd.Series(list(\"bba cabc faabba aacbbfe\"))\n",
    "expected_output = pd.Series(list(\"bbaecabcefaabbaeaacbbfe\"))\n",
    "output = clean_whitespace_replace(\n",
    "    serie\n",
    ")  # This calls your function clean_whitespace_replace\n",
    "assert expected_output.equals(output)  # This will fail if result is not as expected"
   ]
  },
  {
   "cell_type": "code",
   "execution_count": null,
   "id": "0472c9a4-ce23-42e2-9090-ee4695d6057a",
   "metadata": {},
   "outputs": [],
   "source": [
    "def clean_whitespace_replace(arr):\n",
    "    non_empty_mask = arr != \" \"\n",
    "    char = arr[non_empty_mask].value_counts().idxmin()\n",
    "    return arr.replace(\" \", char)"
   ]
  }
 ],
 "metadata": {
  "kernelspec": {
   "display_name": "Python 3 (ipykernel)",
   "language": "python",
   "name": "python3"
  },
  "language_info": {
   "codemirror_mode": {
    "name": "ipython",
    "version": 3
   },
   "file_extension": ".py",
   "mimetype": "text/x-python",
   "name": "python",
   "nbconvert_exporter": "python",
   "pygments_lexer": "ipython3",
   "version": "3.1.-1"
  }
 },
 "nbformat": 4,
 "nbformat_minor": 5
}
